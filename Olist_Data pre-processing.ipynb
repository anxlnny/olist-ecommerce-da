{
  "cells": [
    {
      "cell_type": "markdown",
      "metadata": {
        "id": "MKB4QaULFXvh"
      },
      "source": [
        "# Data pre-processing"
      ]
    },
    {
      "cell_type": "markdown",
      "metadata": {
        "id": "avfS8a-cF-wt"
      },
      "source": [
        "customers_dataset"
      ]
    },
    {
      "cell_type": "code",
      "execution_count": 1,
      "metadata": {
        "id": "CImKIaWzvpWq"
      },
      "outputs": [],
      "source": [
        "import numpy as np\n",
        "import pandas as pd\n",
        "\n",
        "df1 = pd.read_csv('/content/olist_customers_dataset.csv', encoding='windows-1252')"
      ]
    },
    {
      "cell_type": "code",
      "execution_count": 2,
      "metadata": {
        "id": "FmF1Loio9zIo"
      },
      "outputs": [],
      "source": [
        "# read all rows and columns\n",
        "pd.set_option('display.max_columns', None)\n",
        "pd.set_option('display.max_rows', None)"
      ]
    },
    {
      "cell_type": "code",
      "execution_count": 3,
      "metadata": {
        "id": "Zfk2Ozw21sXK",
        "colab": {
          "base_uri": "https://localhost:8080/"
        },
        "outputId": "1579d552-a671-4832-cbe6-3db49ce2aab1"
      },
      "outputs": [
        {
          "output_type": "execute_result",
          "data": {
            "text/plain": [
              "(99441, 5)"
            ]
          },
          "metadata": {},
          "execution_count": 3
        }
      ],
      "source": [
        "# number of rows and columns of dataset\n",
        "df1.shape"
      ]
    },
    {
      "cell_type": "code",
      "execution_count": 4,
      "metadata": {
        "id": "71xg0Z6bKMiW",
        "colab": {
          "base_uri": "https://localhost:8080/"
        },
        "outputId": "18544ad4-2d90-474e-8a2e-c00d8c28c0d8"
      },
      "outputs": [
        {
          "output_type": "execute_result",
          "data": {
            "text/plain": [
              "Index(['customer_id', 'customer_unique_id', 'customer_zip_code_prefix',\n",
              "       'customer_city', 'customer_state'],\n",
              "      dtype='object')"
            ]
          },
          "metadata": {},
          "execution_count": 4
        }
      ],
      "source": [
        "# columns of dataset\n",
        "df1.columns"
      ]
    },
    {
      "cell_type": "code",
      "execution_count": 5,
      "metadata": {
        "id": "WvZcjyehzXiN",
        "colab": {
          "base_uri": "https://localhost:8080/"
        },
        "outputId": "74cfa3a9-5288-4b5e-aa14-46d05fbf0803"
      },
      "outputs": [
        {
          "output_type": "stream",
          "name": "stdout",
          "text": [
            "<class 'pandas.core.frame.DataFrame'>\n",
            "RangeIndex: 99441 entries, 0 to 99440\n",
            "Data columns (total 5 columns):\n",
            " #   Column                    Non-Null Count  Dtype \n",
            "---  ------                    --------------  ----- \n",
            " 0   customer_id               99441 non-null  object\n",
            " 1   customer_unique_id        99441 non-null  object\n",
            " 2   customer_zip_code_prefix  99441 non-null  int64 \n",
            " 3   customer_city             99441 non-null  object\n",
            " 4   customer_state            99441 non-null  object\n",
            "dtypes: int64(1), object(4)\n",
            "memory usage: 3.8+ MB\n"
          ]
        }
      ],
      "source": [
        "# data type of each column and null values\n",
        "df1.info()"
      ]
    },
    {
      "cell_type": "code",
      "execution_count": 6,
      "metadata": {
        "id": "_tZIDmZoNaf0",
        "colab": {
          "base_uri": "https://localhost:8080/"
        },
        "outputId": "c5aa7b14-5ac4-4843-91bb-d418795e491a"
      },
      "outputs": [
        {
          "output_type": "execute_result",
          "data": {
            "text/plain": [
              "False    99441\n",
              "dtype: int64"
            ]
          },
          "metadata": {},
          "execution_count": 6
        }
      ],
      "source": [
        "# check for duplicate values (no)\n",
        "df1.duplicated().value_counts()"
      ]
    },
    {
      "cell_type": "code",
      "execution_count": 7,
      "metadata": {
        "id": "lS03--fozU_g"
      },
      "outputs": [],
      "source": [
        "# drop columns\n",
        "df1.drop(columns = ['customer_zip_code_prefix'], inplace=True)"
      ]
    },
    {
      "cell_type": "code",
      "execution_count": 8,
      "metadata": {
        "id": "K1iJy6y6TEPp",
        "colab": {
          "base_uri": "https://localhost:8080/",
          "height": 206
        },
        "outputId": "1bee498b-cbb4-4952-a166-2defb3324537"
      },
      "outputs": [
        {
          "output_type": "execute_result",
          "data": {
            "text/plain": [
              "                            customer_id                customer_unique_id  \\\n",
              "6700   790457083a93bebbe540493b9de809cc  c3a9ab6f69283de93ff7d0ce244a3c67   \n",
              "8089   92ad3fa7e8c36426785e53b628576c56  11a39e3eb3968676aa98106a19642b30   \n",
              "96478  369ccab6e4d6df1c10a32d98cce08d61  d9e1b1a2be1099683792849d51b2edc6   \n",
              "58965  e29b173e2f8fdd7546b5d3cca8385032  9a401204217ee04e12b8f097f80bbfd8   \n",
              "97995  376c7f50236fad51150ba8d901db18a6  afeed2fe9f00485bae19623e306b3937   \n",
              "\n",
              "             customer_city customer_state  \n",
              "6700             rio claro             SP  \n",
              "8089          juiz de fora             MG  \n",
              "96478       cachoeira alta             GO  \n",
              "58965          carapicuiba             SP  \n",
              "97995  presidente prudente             SP  "
            ],
            "text/html": [
              "\n",
              "  <div id=\"df-62568459-4949-4464-9af8-8a7556e8274b\" class=\"colab-df-container\">\n",
              "    <div>\n",
              "<style scoped>\n",
              "    .dataframe tbody tr th:only-of-type {\n",
              "        vertical-align: middle;\n",
              "    }\n",
              "\n",
              "    .dataframe tbody tr th {\n",
              "        vertical-align: top;\n",
              "    }\n",
              "\n",
              "    .dataframe thead th {\n",
              "        text-align: right;\n",
              "    }\n",
              "</style>\n",
              "<table border=\"1\" class=\"dataframe\">\n",
              "  <thead>\n",
              "    <tr style=\"text-align: right;\">\n",
              "      <th></th>\n",
              "      <th>customer_id</th>\n",
              "      <th>customer_unique_id</th>\n",
              "      <th>customer_city</th>\n",
              "      <th>customer_state</th>\n",
              "    </tr>\n",
              "  </thead>\n",
              "  <tbody>\n",
              "    <tr>\n",
              "      <th>6700</th>\n",
              "      <td>790457083a93bebbe540493b9de809cc</td>\n",
              "      <td>c3a9ab6f69283de93ff7d0ce244a3c67</td>\n",
              "      <td>rio claro</td>\n",
              "      <td>SP</td>\n",
              "    </tr>\n",
              "    <tr>\n",
              "      <th>8089</th>\n",
              "      <td>92ad3fa7e8c36426785e53b628576c56</td>\n",
              "      <td>11a39e3eb3968676aa98106a19642b30</td>\n",
              "      <td>juiz de fora</td>\n",
              "      <td>MG</td>\n",
              "    </tr>\n",
              "    <tr>\n",
              "      <th>96478</th>\n",
              "      <td>369ccab6e4d6df1c10a32d98cce08d61</td>\n",
              "      <td>d9e1b1a2be1099683792849d51b2edc6</td>\n",
              "      <td>cachoeira alta</td>\n",
              "      <td>GO</td>\n",
              "    </tr>\n",
              "    <tr>\n",
              "      <th>58965</th>\n",
              "      <td>e29b173e2f8fdd7546b5d3cca8385032</td>\n",
              "      <td>9a401204217ee04e12b8f097f80bbfd8</td>\n",
              "      <td>carapicuiba</td>\n",
              "      <td>SP</td>\n",
              "    </tr>\n",
              "    <tr>\n",
              "      <th>97995</th>\n",
              "      <td>376c7f50236fad51150ba8d901db18a6</td>\n",
              "      <td>afeed2fe9f00485bae19623e306b3937</td>\n",
              "      <td>presidente prudente</td>\n",
              "      <td>SP</td>\n",
              "    </tr>\n",
              "  </tbody>\n",
              "</table>\n",
              "</div>\n",
              "    <div class=\"colab-df-buttons\">\n",
              "\n",
              "  <div class=\"colab-df-container\">\n",
              "    <button class=\"colab-df-convert\" onclick=\"convertToInteractive('df-62568459-4949-4464-9af8-8a7556e8274b')\"\n",
              "            title=\"Convert this dataframe to an interactive table.\"\n",
              "            style=\"display:none;\">\n",
              "\n",
              "  <svg xmlns=\"http://www.w3.org/2000/svg\" height=\"24px\" viewBox=\"0 -960 960 960\">\n",
              "    <path d=\"M120-120v-720h720v720H120Zm60-500h600v-160H180v160Zm220 220h160v-160H400v160Zm0 220h160v-160H400v160ZM180-400h160v-160H180v160Zm440 0h160v-160H620v160ZM180-180h160v-160H180v160Zm440 0h160v-160H620v160Z\"/>\n",
              "  </svg>\n",
              "    </button>\n",
              "\n",
              "  <style>\n",
              "    .colab-df-container {\n",
              "      display:flex;\n",
              "      gap: 12px;\n",
              "    }\n",
              "\n",
              "    .colab-df-convert {\n",
              "      background-color: #E8F0FE;\n",
              "      border: none;\n",
              "      border-radius: 50%;\n",
              "      cursor: pointer;\n",
              "      display: none;\n",
              "      fill: #1967D2;\n",
              "      height: 32px;\n",
              "      padding: 0 0 0 0;\n",
              "      width: 32px;\n",
              "    }\n",
              "\n",
              "    .colab-df-convert:hover {\n",
              "      background-color: #E2EBFA;\n",
              "      box-shadow: 0px 1px 2px rgba(60, 64, 67, 0.3), 0px 1px 3px 1px rgba(60, 64, 67, 0.15);\n",
              "      fill: #174EA6;\n",
              "    }\n",
              "\n",
              "    .colab-df-buttons div {\n",
              "      margin-bottom: 4px;\n",
              "    }\n",
              "\n",
              "    [theme=dark] .colab-df-convert {\n",
              "      background-color: #3B4455;\n",
              "      fill: #D2E3FC;\n",
              "    }\n",
              "\n",
              "    [theme=dark] .colab-df-convert:hover {\n",
              "      background-color: #434B5C;\n",
              "      box-shadow: 0px 1px 3px 1px rgba(0, 0, 0, 0.15);\n",
              "      filter: drop-shadow(0px 1px 2px rgba(0, 0, 0, 0.3));\n",
              "      fill: #FFFFFF;\n",
              "    }\n",
              "  </style>\n",
              "\n",
              "    <script>\n",
              "      const buttonEl =\n",
              "        document.querySelector('#df-62568459-4949-4464-9af8-8a7556e8274b button.colab-df-convert');\n",
              "      buttonEl.style.display =\n",
              "        google.colab.kernel.accessAllowed ? 'block' : 'none';\n",
              "\n",
              "      async function convertToInteractive(key) {\n",
              "        const element = document.querySelector('#df-62568459-4949-4464-9af8-8a7556e8274b');\n",
              "        const dataTable =\n",
              "          await google.colab.kernel.invokeFunction('convertToInteractive',\n",
              "                                                    [key], {});\n",
              "        if (!dataTable) return;\n",
              "\n",
              "        const docLinkHtml = 'Like what you see? Visit the ' +\n",
              "          '<a target=\"_blank\" href=https://colab.research.google.com/notebooks/data_table.ipynb>data table notebook</a>'\n",
              "          + ' to learn more about interactive tables.';\n",
              "        element.innerHTML = '';\n",
              "        dataTable['output_type'] = 'display_data';\n",
              "        await google.colab.output.renderOutput(dataTable, element);\n",
              "        const docLink = document.createElement('div');\n",
              "        docLink.innerHTML = docLinkHtml;\n",
              "        element.appendChild(docLink);\n",
              "      }\n",
              "    </script>\n",
              "  </div>\n",
              "\n",
              "\n",
              "<div id=\"df-15b0f35c-7e05-4d00-9cae-a161b64516e3\">\n",
              "  <button class=\"colab-df-quickchart\" onclick=\"quickchart('df-15b0f35c-7e05-4d00-9cae-a161b64516e3')\"\n",
              "            title=\"Suggest charts.\"\n",
              "            style=\"display:none;\">\n",
              "\n",
              "<svg xmlns=\"http://www.w3.org/2000/svg\" height=\"24px\"viewBox=\"0 0 24 24\"\n",
              "     width=\"24px\">\n",
              "    <g>\n",
              "        <path d=\"M19 3H5c-1.1 0-2 .9-2 2v14c0 1.1.9 2 2 2h14c1.1 0 2-.9 2-2V5c0-1.1-.9-2-2-2zM9 17H7v-7h2v7zm4 0h-2V7h2v10zm4 0h-2v-4h2v4z\"/>\n",
              "    </g>\n",
              "</svg>\n",
              "  </button>\n",
              "\n",
              "<style>\n",
              "  .colab-df-quickchart {\n",
              "    background-color: #E8F0FE;\n",
              "    border: none;\n",
              "    border-radius: 50%;\n",
              "    cursor: pointer;\n",
              "    display: none;\n",
              "    fill: #1967D2;\n",
              "    height: 32px;\n",
              "    padding: 0 0 0 0;\n",
              "    width: 32px;\n",
              "  }\n",
              "\n",
              "  .colab-df-quickchart:hover {\n",
              "    background-color: #E2EBFA;\n",
              "    box-shadow: 0px 1px 2px rgba(60, 64, 67, 0.3), 0px 1px 3px 1px rgba(60, 64, 67, 0.15);\n",
              "    fill: #174EA6;\n",
              "  }\n",
              "\n",
              "  [theme=dark] .colab-df-quickchart {\n",
              "    background-color: #3B4455;\n",
              "    fill: #D2E3FC;\n",
              "  }\n",
              "\n",
              "  [theme=dark] .colab-df-quickchart:hover {\n",
              "    background-color: #434B5C;\n",
              "    box-shadow: 0px 1px 3px 1px rgba(0, 0, 0, 0.15);\n",
              "    filter: drop-shadow(0px 1px 2px rgba(0, 0, 0, 0.3));\n",
              "    fill: #FFFFFF;\n",
              "  }\n",
              "</style>\n",
              "\n",
              "  <script>\n",
              "    async function quickchart(key) {\n",
              "      const charts = await google.colab.kernel.invokeFunction(\n",
              "          'suggestCharts', [key], {});\n",
              "    }\n",
              "    (() => {\n",
              "      let quickchartButtonEl =\n",
              "        document.querySelector('#df-15b0f35c-7e05-4d00-9cae-a161b64516e3 button');\n",
              "      quickchartButtonEl.style.display =\n",
              "        google.colab.kernel.accessAllowed ? 'block' : 'none';\n",
              "    })();\n",
              "  </script>\n",
              "</div>\n",
              "    </div>\n",
              "  </div>\n"
            ]
          },
          "metadata": {},
          "execution_count": 8
        }
      ],
      "source": [
        "df1.sample(5)"
      ]
    },
    {
      "cell_type": "code",
      "execution_count": 9,
      "metadata": {
        "id": "MH8WmhS8Uuay"
      },
      "outputs": [],
      "source": [
        "# export the final file\n",
        "df1.to_csv('olist_customers.csv', index=False)"
      ]
    },
    {
      "cell_type": "markdown",
      "metadata": {
        "id": "Vs8Dn7ewGGFj"
      },
      "source": [
        "order_items_dataset"
      ]
    },
    {
      "cell_type": "code",
      "execution_count": 10,
      "metadata": {
        "id": "CpS-Vuq7GLZY"
      },
      "outputs": [],
      "source": [
        "import numpy as np\n",
        "import pandas as pd\n",
        "\n",
        "df2 = pd.read_csv('/content/olist_order_items_dataset.csv', encoding='windows-1252')"
      ]
    },
    {
      "cell_type": "code",
      "execution_count": 11,
      "metadata": {
        "id": "T7UuiySeGTuR"
      },
      "outputs": [],
      "source": [
        "# read all rows and columns\n",
        "pd.set_option('display.max_columns', None)\n",
        "pd.set_option('display.max_rows', None)"
      ]
    },
    {
      "cell_type": "code",
      "execution_count": 12,
      "metadata": {
        "id": "jVvj1Cx_GrWn",
        "colab": {
          "base_uri": "https://localhost:8080/"
        },
        "outputId": "c5e95993-d027-4b8a-a20e-bb7f8864554b"
      },
      "outputs": [
        {
          "output_type": "execute_result",
          "data": {
            "text/plain": [
              "(112650, 7)"
            ]
          },
          "metadata": {},
          "execution_count": 12
        }
      ],
      "source": [
        "# number of rows and columns of dataset\n",
        "df2.shape"
      ]
    },
    {
      "cell_type": "code",
      "execution_count": 13,
      "metadata": {
        "id": "mM6rlEEiGwOa",
        "colab": {
          "base_uri": "https://localhost:8080/"
        },
        "outputId": "213d558b-8ea6-4aed-ed21-90b9fed97bdf"
      },
      "outputs": [
        {
          "output_type": "execute_result",
          "data": {
            "text/plain": [
              "Index(['order_id', 'order_item_id', 'product_id', 'seller_id',\n",
              "       'shipping_limit_date', 'price', 'freight_value'],\n",
              "      dtype='object')"
            ]
          },
          "metadata": {},
          "execution_count": 13
        }
      ],
      "source": [
        "# columns of dataset\n",
        "df2.columns"
      ]
    },
    {
      "cell_type": "code",
      "execution_count": 14,
      "metadata": {
        "id": "Yp3ZbWfLHKXl",
        "colab": {
          "base_uri": "https://localhost:8080/"
        },
        "outputId": "bb4d5208-f0b5-4bcb-881d-53b06d5ff7df"
      },
      "outputs": [
        {
          "output_type": "stream",
          "name": "stdout",
          "text": [
            "<class 'pandas.core.frame.DataFrame'>\n",
            "RangeIndex: 112650 entries, 0 to 112649\n",
            "Data columns (total 7 columns):\n",
            " #   Column               Non-Null Count   Dtype  \n",
            "---  ------               --------------   -----  \n",
            " 0   order_id             112650 non-null  object \n",
            " 1   order_item_id        112650 non-null  int64  \n",
            " 2   product_id           112650 non-null  object \n",
            " 3   seller_id            112650 non-null  object \n",
            " 4   shipping_limit_date  112650 non-null  object \n",
            " 5   price                112650 non-null  float64\n",
            " 6   freight_value        112650 non-null  float64\n",
            "dtypes: float64(2), int64(1), object(4)\n",
            "memory usage: 6.0+ MB\n"
          ]
        }
      ],
      "source": [
        "# data type of each column and null values\n",
        "df2.info()"
      ]
    },
    {
      "cell_type": "code",
      "execution_count": 15,
      "metadata": {
        "id": "Kx_es2bqHSHk",
        "colab": {
          "base_uri": "https://localhost:8080/"
        },
        "outputId": "7e5d7f28-71d5-40b0-919d-1e4f726b950a"
      },
      "outputs": [
        {
          "output_type": "execute_result",
          "data": {
            "text/plain": [
              "False    112650\n",
              "dtype: int64"
            ]
          },
          "metadata": {},
          "execution_count": 15
        }
      ],
      "source": [
        "# check for duplicate values (no)\n",
        "df2.duplicated().value_counts()"
      ]
    },
    {
      "cell_type": "code",
      "execution_count": 16,
      "metadata": {
        "id": "1LZzXgEXISTh"
      },
      "outputs": [],
      "source": [
        "# change datatype for shipping_limit_date\n",
        "df2['shipping_limit_date'] = pd.to_datetime(df2['shipping_limit_date'])"
      ]
    },
    {
      "cell_type": "code",
      "execution_count": 17,
      "metadata": {
        "id": "Br4kIl1kIjCY",
        "colab": {
          "base_uri": "https://localhost:8080/",
          "height": 226
        },
        "outputId": "2436e2c0-1632-439f-dee0-8f4a01647b8d"
      },
      "outputs": [
        {
          "output_type": "execute_result",
          "data": {
            "text/plain": [
              "                               order_id  order_item_id  \\\n",
              "79808  b57e995a96941e23ee717939a2372baf              1   \n",
              "12722  1cd2f52e42a0c37a8b1d06b7643a2005              1   \n",
              "28678  414aa35f4bb723e9b5787467f282450e              1   \n",
              "27940  3f8e641fbeeebd6f2d786d0b280e300c              1   \n",
              "85808  c2e9150ecca583eb68c1e2e2b650caac              1   \n",
              "\n",
              "                             product_id                         seller_id  \\\n",
              "79808  59b47581b7ba51a62bf9c3dd4fef36fd  955fee9216a65b617aa5c0531780ce60   \n",
              "12722  770c257cdfc072fb50ebf2bbd6696fe1  f3da5b2ff499efb8d4a6d371d175d7dd   \n",
              "28678  3ede26b9ff5be98aa46feaf2b1416ddb  ef506c96320abeedfb894c34db06f478   \n",
              "27940  1b8ee158f59c098470fad33f39660964  1554a68530182680ad5c8b042c3ab563   \n",
              "85808  4deb009c36a910076a023947a7929201  8629c241b3622ac12cd4118afdc8d394   \n",
              "\n",
              "      shipping_limit_date   price  freight_value  \n",
              "79808 2018-03-25 21:08:50  180.00          40.29  \n",
              "12722 2018-03-22 19:35:25   69.90           8.29  \n",
              "28678 2017-07-31 03:25:32   22.99          15.10  \n",
              "27940 2017-08-02 13:50:09  139.90          31.73  \n",
              "85808 2018-05-11 16:12:36   51.81          37.05  "
            ],
            "text/html": [
              "\n",
              "  <div id=\"df-a6da2d31-a912-4573-bb98-e16b0e3cf49f\" class=\"colab-df-container\">\n",
              "    <div>\n",
              "<style scoped>\n",
              "    .dataframe tbody tr th:only-of-type {\n",
              "        vertical-align: middle;\n",
              "    }\n",
              "\n",
              "    .dataframe tbody tr th {\n",
              "        vertical-align: top;\n",
              "    }\n",
              "\n",
              "    .dataframe thead th {\n",
              "        text-align: right;\n",
              "    }\n",
              "</style>\n",
              "<table border=\"1\" class=\"dataframe\">\n",
              "  <thead>\n",
              "    <tr style=\"text-align: right;\">\n",
              "      <th></th>\n",
              "      <th>order_id</th>\n",
              "      <th>order_item_id</th>\n",
              "      <th>product_id</th>\n",
              "      <th>seller_id</th>\n",
              "      <th>shipping_limit_date</th>\n",
              "      <th>price</th>\n",
              "      <th>freight_value</th>\n",
              "    </tr>\n",
              "  </thead>\n",
              "  <tbody>\n",
              "    <tr>\n",
              "      <th>79808</th>\n",
              "      <td>b57e995a96941e23ee717939a2372baf</td>\n",
              "      <td>1</td>\n",
              "      <td>59b47581b7ba51a62bf9c3dd4fef36fd</td>\n",
              "      <td>955fee9216a65b617aa5c0531780ce60</td>\n",
              "      <td>2018-03-25 21:08:50</td>\n",
              "      <td>180.00</td>\n",
              "      <td>40.29</td>\n",
              "    </tr>\n",
              "    <tr>\n",
              "      <th>12722</th>\n",
              "      <td>1cd2f52e42a0c37a8b1d06b7643a2005</td>\n",
              "      <td>1</td>\n",
              "      <td>770c257cdfc072fb50ebf2bbd6696fe1</td>\n",
              "      <td>f3da5b2ff499efb8d4a6d371d175d7dd</td>\n",
              "      <td>2018-03-22 19:35:25</td>\n",
              "      <td>69.90</td>\n",
              "      <td>8.29</td>\n",
              "    </tr>\n",
              "    <tr>\n",
              "      <th>28678</th>\n",
              "      <td>414aa35f4bb723e9b5787467f282450e</td>\n",
              "      <td>1</td>\n",
              "      <td>3ede26b9ff5be98aa46feaf2b1416ddb</td>\n",
              "      <td>ef506c96320abeedfb894c34db06f478</td>\n",
              "      <td>2017-07-31 03:25:32</td>\n",
              "      <td>22.99</td>\n",
              "      <td>15.10</td>\n",
              "    </tr>\n",
              "    <tr>\n",
              "      <th>27940</th>\n",
              "      <td>3f8e641fbeeebd6f2d786d0b280e300c</td>\n",
              "      <td>1</td>\n",
              "      <td>1b8ee158f59c098470fad33f39660964</td>\n",
              "      <td>1554a68530182680ad5c8b042c3ab563</td>\n",
              "      <td>2017-08-02 13:50:09</td>\n",
              "      <td>139.90</td>\n",
              "      <td>31.73</td>\n",
              "    </tr>\n",
              "    <tr>\n",
              "      <th>85808</th>\n",
              "      <td>c2e9150ecca583eb68c1e2e2b650caac</td>\n",
              "      <td>1</td>\n",
              "      <td>4deb009c36a910076a023947a7929201</td>\n",
              "      <td>8629c241b3622ac12cd4118afdc8d394</td>\n",
              "      <td>2018-05-11 16:12:36</td>\n",
              "      <td>51.81</td>\n",
              "      <td>37.05</td>\n",
              "    </tr>\n",
              "  </tbody>\n",
              "</table>\n",
              "</div>\n",
              "    <div class=\"colab-df-buttons\">\n",
              "\n",
              "  <div class=\"colab-df-container\">\n",
              "    <button class=\"colab-df-convert\" onclick=\"convertToInteractive('df-a6da2d31-a912-4573-bb98-e16b0e3cf49f')\"\n",
              "            title=\"Convert this dataframe to an interactive table.\"\n",
              "            style=\"display:none;\">\n",
              "\n",
              "  <svg xmlns=\"http://www.w3.org/2000/svg\" height=\"24px\" viewBox=\"0 -960 960 960\">\n",
              "    <path d=\"M120-120v-720h720v720H120Zm60-500h600v-160H180v160Zm220 220h160v-160H400v160Zm0 220h160v-160H400v160ZM180-400h160v-160H180v160Zm440 0h160v-160H620v160ZM180-180h160v-160H180v160Zm440 0h160v-160H620v160Z\"/>\n",
              "  </svg>\n",
              "    </button>\n",
              "\n",
              "  <style>\n",
              "    .colab-df-container {\n",
              "      display:flex;\n",
              "      gap: 12px;\n",
              "    }\n",
              "\n",
              "    .colab-df-convert {\n",
              "      background-color: #E8F0FE;\n",
              "      border: none;\n",
              "      border-radius: 50%;\n",
              "      cursor: pointer;\n",
              "      display: none;\n",
              "      fill: #1967D2;\n",
              "      height: 32px;\n",
              "      padding: 0 0 0 0;\n",
              "      width: 32px;\n",
              "    }\n",
              "\n",
              "    .colab-df-convert:hover {\n",
              "      background-color: #E2EBFA;\n",
              "      box-shadow: 0px 1px 2px rgba(60, 64, 67, 0.3), 0px 1px 3px 1px rgba(60, 64, 67, 0.15);\n",
              "      fill: #174EA6;\n",
              "    }\n",
              "\n",
              "    .colab-df-buttons div {\n",
              "      margin-bottom: 4px;\n",
              "    }\n",
              "\n",
              "    [theme=dark] .colab-df-convert {\n",
              "      background-color: #3B4455;\n",
              "      fill: #D2E3FC;\n",
              "    }\n",
              "\n",
              "    [theme=dark] .colab-df-convert:hover {\n",
              "      background-color: #434B5C;\n",
              "      box-shadow: 0px 1px 3px 1px rgba(0, 0, 0, 0.15);\n",
              "      filter: drop-shadow(0px 1px 2px rgba(0, 0, 0, 0.3));\n",
              "      fill: #FFFFFF;\n",
              "    }\n",
              "  </style>\n",
              "\n",
              "    <script>\n",
              "      const buttonEl =\n",
              "        document.querySelector('#df-a6da2d31-a912-4573-bb98-e16b0e3cf49f button.colab-df-convert');\n",
              "      buttonEl.style.display =\n",
              "        google.colab.kernel.accessAllowed ? 'block' : 'none';\n",
              "\n",
              "      async function convertToInteractive(key) {\n",
              "        const element = document.querySelector('#df-a6da2d31-a912-4573-bb98-e16b0e3cf49f');\n",
              "        const dataTable =\n",
              "          await google.colab.kernel.invokeFunction('convertToInteractive',\n",
              "                                                    [key], {});\n",
              "        if (!dataTable) return;\n",
              "\n",
              "        const docLinkHtml = 'Like what you see? Visit the ' +\n",
              "          '<a target=\"_blank\" href=https://colab.research.google.com/notebooks/data_table.ipynb>data table notebook</a>'\n",
              "          + ' to learn more about interactive tables.';\n",
              "        element.innerHTML = '';\n",
              "        dataTable['output_type'] = 'display_data';\n",
              "        await google.colab.output.renderOutput(dataTable, element);\n",
              "        const docLink = document.createElement('div');\n",
              "        docLink.innerHTML = docLinkHtml;\n",
              "        element.appendChild(docLink);\n",
              "      }\n",
              "    </script>\n",
              "  </div>\n",
              "\n",
              "\n",
              "<div id=\"df-5e767750-8341-419b-b389-91b8d87897f7\">\n",
              "  <button class=\"colab-df-quickchart\" onclick=\"quickchart('df-5e767750-8341-419b-b389-91b8d87897f7')\"\n",
              "            title=\"Suggest charts.\"\n",
              "            style=\"display:none;\">\n",
              "\n",
              "<svg xmlns=\"http://www.w3.org/2000/svg\" height=\"24px\"viewBox=\"0 0 24 24\"\n",
              "     width=\"24px\">\n",
              "    <g>\n",
              "        <path d=\"M19 3H5c-1.1 0-2 .9-2 2v14c0 1.1.9 2 2 2h14c1.1 0 2-.9 2-2V5c0-1.1-.9-2-2-2zM9 17H7v-7h2v7zm4 0h-2V7h2v10zm4 0h-2v-4h2v4z\"/>\n",
              "    </g>\n",
              "</svg>\n",
              "  </button>\n",
              "\n",
              "<style>\n",
              "  .colab-df-quickchart {\n",
              "    background-color: #E8F0FE;\n",
              "    border: none;\n",
              "    border-radius: 50%;\n",
              "    cursor: pointer;\n",
              "    display: none;\n",
              "    fill: #1967D2;\n",
              "    height: 32px;\n",
              "    padding: 0 0 0 0;\n",
              "    width: 32px;\n",
              "  }\n",
              "\n",
              "  .colab-df-quickchart:hover {\n",
              "    background-color: #E2EBFA;\n",
              "    box-shadow: 0px 1px 2px rgba(60, 64, 67, 0.3), 0px 1px 3px 1px rgba(60, 64, 67, 0.15);\n",
              "    fill: #174EA6;\n",
              "  }\n",
              "\n",
              "  [theme=dark] .colab-df-quickchart {\n",
              "    background-color: #3B4455;\n",
              "    fill: #D2E3FC;\n",
              "  }\n",
              "\n",
              "  [theme=dark] .colab-df-quickchart:hover {\n",
              "    background-color: #434B5C;\n",
              "    box-shadow: 0px 1px 3px 1px rgba(0, 0, 0, 0.15);\n",
              "    filter: drop-shadow(0px 1px 2px rgba(0, 0, 0, 0.3));\n",
              "    fill: #FFFFFF;\n",
              "  }\n",
              "</style>\n",
              "\n",
              "  <script>\n",
              "    async function quickchart(key) {\n",
              "      const charts = await google.colab.kernel.invokeFunction(\n",
              "          'suggestCharts', [key], {});\n",
              "    }\n",
              "    (() => {\n",
              "      let quickchartButtonEl =\n",
              "        document.querySelector('#df-5e767750-8341-419b-b389-91b8d87897f7 button');\n",
              "      quickchartButtonEl.style.display =\n",
              "        google.colab.kernel.accessAllowed ? 'block' : 'none';\n",
              "    })();\n",
              "  </script>\n",
              "</div>\n",
              "    </div>\n",
              "  </div>\n"
            ]
          },
          "metadata": {},
          "execution_count": 17
        }
      ],
      "source": [
        "df2.sample(5)"
      ]
    },
    {
      "cell_type": "code",
      "source": [
        "# export the final file\n",
        "df2.to_csv('olist_order_items.csv', index=False)"
      ],
      "metadata": {
        "id": "7A134uEeed1c"
      },
      "execution_count": 18,
      "outputs": []
    },
    {
      "cell_type": "markdown",
      "metadata": {
        "id": "B1YXQfyLJBm3"
      },
      "source": [
        "order_payments_dataset"
      ]
    },
    {
      "cell_type": "code",
      "execution_count": 19,
      "metadata": {
        "id": "cQiEYdeHJGmT"
      },
      "outputs": [],
      "source": [
        "import numpy as np\n",
        "import pandas as pd\n",
        "\n",
        "df3 = pd.read_csv('/content/olist_order_payments_dataset.csv', encoding='windows-1252')"
      ]
    },
    {
      "cell_type": "code",
      "execution_count": 20,
      "metadata": {
        "id": "UmRtoJe1JMsx"
      },
      "outputs": [],
      "source": [
        "# read all rows and columns\n",
        "pd.set_option('display.max_columns', None)\n",
        "pd.set_option('display.max_rows', None)"
      ]
    },
    {
      "cell_type": "code",
      "execution_count": 21,
      "metadata": {
        "id": "iJn-yCIqJVAN",
        "colab": {
          "base_uri": "https://localhost:8080/"
        },
        "outputId": "e302ff38-297d-4eb3-aeee-b0b93710f635"
      },
      "outputs": [
        {
          "output_type": "execute_result",
          "data": {
            "text/plain": [
              "(103886, 5)"
            ]
          },
          "metadata": {},
          "execution_count": 21
        }
      ],
      "source": [
        "# number of rows and columns of dataset\n",
        "df3.shape"
      ]
    },
    {
      "cell_type": "code",
      "execution_count": 22,
      "metadata": {
        "id": "lSQk3tBAJ7zB",
        "colab": {
          "base_uri": "https://localhost:8080/"
        },
        "outputId": "0c3bc9ec-0dff-4d60-802f-34bb80fb9566"
      },
      "outputs": [
        {
          "output_type": "execute_result",
          "data": {
            "text/plain": [
              "Index(['order_id', 'payment_sequential', 'payment_type',\n",
              "       'payment_installments', 'payment_value'],\n",
              "      dtype='object')"
            ]
          },
          "metadata": {},
          "execution_count": 22
        }
      ],
      "source": [
        "# columns of dataset\n",
        "df3.columns"
      ]
    },
    {
      "cell_type": "code",
      "execution_count": 23,
      "metadata": {
        "id": "vVNAoGsHKnDM",
        "colab": {
          "base_uri": "https://localhost:8080/"
        },
        "outputId": "d886e178-be07-48a7-ecfa-927fcd044893"
      },
      "outputs": [
        {
          "output_type": "stream",
          "name": "stdout",
          "text": [
            "<class 'pandas.core.frame.DataFrame'>\n",
            "RangeIndex: 103886 entries, 0 to 103885\n",
            "Data columns (total 5 columns):\n",
            " #   Column                Non-Null Count   Dtype  \n",
            "---  ------                --------------   -----  \n",
            " 0   order_id              103886 non-null  object \n",
            " 1   payment_sequential    103886 non-null  int64  \n",
            " 2   payment_type          103886 non-null  object \n",
            " 3   payment_installments  103886 non-null  int64  \n",
            " 4   payment_value         103886 non-null  float64\n",
            "dtypes: float64(1), int64(2), object(2)\n",
            "memory usage: 4.0+ MB\n"
          ]
        }
      ],
      "source": [
        "# data type of each column and null values\n",
        "df3.info()"
      ]
    },
    {
      "cell_type": "code",
      "execution_count": 24,
      "metadata": {
        "id": "Sr6Rx58nKxgv",
        "colab": {
          "base_uri": "https://localhost:8080/"
        },
        "outputId": "c854dda7-3d1f-4d43-8226-22e15a657976"
      },
      "outputs": [
        {
          "output_type": "execute_result",
          "data": {
            "text/plain": [
              "False    103886\n",
              "dtype: int64"
            ]
          },
          "metadata": {},
          "execution_count": 24
        }
      ],
      "source": [
        "# check for duplicate values (no)\n",
        "df3.duplicated().value_counts()"
      ]
    },
    {
      "cell_type": "code",
      "execution_count": 25,
      "metadata": {
        "id": "-jnu3cukM1l5",
        "colab": {
          "base_uri": "https://localhost:8080/",
          "height": 206
        },
        "outputId": "9c4b9558-7da7-48be-9c47-f4ad51fc39e7"
      },
      "outputs": [
        {
          "output_type": "execute_result",
          "data": {
            "text/plain": [
              "                               order_id  payment_sequential payment_type  \\\n",
              "82662  17028de7d02a1fca7c1d08221b859b77                   1  credit_card   \n",
              "81690  d2337a41d3e791baab0721d029477897                   1  credit_card   \n",
              "80402  ae5d90764ed49cd5e5e72cd3df5b787e                   1  credit_card   \n",
              "21930  2b52dbab41840708a214e393b22184be                   1  credit_card   \n",
              "77300  11f561d4e8e6398b03a193ff522d5a27                   1  credit_card   \n",
              "\n",
              "       payment_installments  payment_value  \n",
              "82662                     6         213.59  \n",
              "81690                     1          34.00  \n",
              "80402                     3         103.64  \n",
              "21930                     2          62.23  \n",
              "77300                     3          85.60  "
            ],
            "text/html": [
              "\n",
              "  <div id=\"df-c633563f-a70a-41f9-97d0-4d63e9b636db\" class=\"colab-df-container\">\n",
              "    <div>\n",
              "<style scoped>\n",
              "    .dataframe tbody tr th:only-of-type {\n",
              "        vertical-align: middle;\n",
              "    }\n",
              "\n",
              "    .dataframe tbody tr th {\n",
              "        vertical-align: top;\n",
              "    }\n",
              "\n",
              "    .dataframe thead th {\n",
              "        text-align: right;\n",
              "    }\n",
              "</style>\n",
              "<table border=\"1\" class=\"dataframe\">\n",
              "  <thead>\n",
              "    <tr style=\"text-align: right;\">\n",
              "      <th></th>\n",
              "      <th>order_id</th>\n",
              "      <th>payment_sequential</th>\n",
              "      <th>payment_type</th>\n",
              "      <th>payment_installments</th>\n",
              "      <th>payment_value</th>\n",
              "    </tr>\n",
              "  </thead>\n",
              "  <tbody>\n",
              "    <tr>\n",
              "      <th>82662</th>\n",
              "      <td>17028de7d02a1fca7c1d08221b859b77</td>\n",
              "      <td>1</td>\n",
              "      <td>credit_card</td>\n",
              "      <td>6</td>\n",
              "      <td>213.59</td>\n",
              "    </tr>\n",
              "    <tr>\n",
              "      <th>81690</th>\n",
              "      <td>d2337a41d3e791baab0721d029477897</td>\n",
              "      <td>1</td>\n",
              "      <td>credit_card</td>\n",
              "      <td>1</td>\n",
              "      <td>34.00</td>\n",
              "    </tr>\n",
              "    <tr>\n",
              "      <th>80402</th>\n",
              "      <td>ae5d90764ed49cd5e5e72cd3df5b787e</td>\n",
              "      <td>1</td>\n",
              "      <td>credit_card</td>\n",
              "      <td>3</td>\n",
              "      <td>103.64</td>\n",
              "    </tr>\n",
              "    <tr>\n",
              "      <th>21930</th>\n",
              "      <td>2b52dbab41840708a214e393b22184be</td>\n",
              "      <td>1</td>\n",
              "      <td>credit_card</td>\n",
              "      <td>2</td>\n",
              "      <td>62.23</td>\n",
              "    </tr>\n",
              "    <tr>\n",
              "      <th>77300</th>\n",
              "      <td>11f561d4e8e6398b03a193ff522d5a27</td>\n",
              "      <td>1</td>\n",
              "      <td>credit_card</td>\n",
              "      <td>3</td>\n",
              "      <td>85.60</td>\n",
              "    </tr>\n",
              "  </tbody>\n",
              "</table>\n",
              "</div>\n",
              "    <div class=\"colab-df-buttons\">\n",
              "\n",
              "  <div class=\"colab-df-container\">\n",
              "    <button class=\"colab-df-convert\" onclick=\"convertToInteractive('df-c633563f-a70a-41f9-97d0-4d63e9b636db')\"\n",
              "            title=\"Convert this dataframe to an interactive table.\"\n",
              "            style=\"display:none;\">\n",
              "\n",
              "  <svg xmlns=\"http://www.w3.org/2000/svg\" height=\"24px\" viewBox=\"0 -960 960 960\">\n",
              "    <path d=\"M120-120v-720h720v720H120Zm60-500h600v-160H180v160Zm220 220h160v-160H400v160Zm0 220h160v-160H400v160ZM180-400h160v-160H180v160Zm440 0h160v-160H620v160ZM180-180h160v-160H180v160Zm440 0h160v-160H620v160Z\"/>\n",
              "  </svg>\n",
              "    </button>\n",
              "\n",
              "  <style>\n",
              "    .colab-df-container {\n",
              "      display:flex;\n",
              "      gap: 12px;\n",
              "    }\n",
              "\n",
              "    .colab-df-convert {\n",
              "      background-color: #E8F0FE;\n",
              "      border: none;\n",
              "      border-radius: 50%;\n",
              "      cursor: pointer;\n",
              "      display: none;\n",
              "      fill: #1967D2;\n",
              "      height: 32px;\n",
              "      padding: 0 0 0 0;\n",
              "      width: 32px;\n",
              "    }\n",
              "\n",
              "    .colab-df-convert:hover {\n",
              "      background-color: #E2EBFA;\n",
              "      box-shadow: 0px 1px 2px rgba(60, 64, 67, 0.3), 0px 1px 3px 1px rgba(60, 64, 67, 0.15);\n",
              "      fill: #174EA6;\n",
              "    }\n",
              "\n",
              "    .colab-df-buttons div {\n",
              "      margin-bottom: 4px;\n",
              "    }\n",
              "\n",
              "    [theme=dark] .colab-df-convert {\n",
              "      background-color: #3B4455;\n",
              "      fill: #D2E3FC;\n",
              "    }\n",
              "\n",
              "    [theme=dark] .colab-df-convert:hover {\n",
              "      background-color: #434B5C;\n",
              "      box-shadow: 0px 1px 3px 1px rgba(0, 0, 0, 0.15);\n",
              "      filter: drop-shadow(0px 1px 2px rgba(0, 0, 0, 0.3));\n",
              "      fill: #FFFFFF;\n",
              "    }\n",
              "  </style>\n",
              "\n",
              "    <script>\n",
              "      const buttonEl =\n",
              "        document.querySelector('#df-c633563f-a70a-41f9-97d0-4d63e9b636db button.colab-df-convert');\n",
              "      buttonEl.style.display =\n",
              "        google.colab.kernel.accessAllowed ? 'block' : 'none';\n",
              "\n",
              "      async function convertToInteractive(key) {\n",
              "        const element = document.querySelector('#df-c633563f-a70a-41f9-97d0-4d63e9b636db');\n",
              "        const dataTable =\n",
              "          await google.colab.kernel.invokeFunction('convertToInteractive',\n",
              "                                                    [key], {});\n",
              "        if (!dataTable) return;\n",
              "\n",
              "        const docLinkHtml = 'Like what you see? Visit the ' +\n",
              "          '<a target=\"_blank\" href=https://colab.research.google.com/notebooks/data_table.ipynb>data table notebook</a>'\n",
              "          + ' to learn more about interactive tables.';\n",
              "        element.innerHTML = '';\n",
              "        dataTable['output_type'] = 'display_data';\n",
              "        await google.colab.output.renderOutput(dataTable, element);\n",
              "        const docLink = document.createElement('div');\n",
              "        docLink.innerHTML = docLinkHtml;\n",
              "        element.appendChild(docLink);\n",
              "      }\n",
              "    </script>\n",
              "  </div>\n",
              "\n",
              "\n",
              "<div id=\"df-6151e6d9-713e-461c-89a2-c4d1e60e43de\">\n",
              "  <button class=\"colab-df-quickchart\" onclick=\"quickchart('df-6151e6d9-713e-461c-89a2-c4d1e60e43de')\"\n",
              "            title=\"Suggest charts.\"\n",
              "            style=\"display:none;\">\n",
              "\n",
              "<svg xmlns=\"http://www.w3.org/2000/svg\" height=\"24px\"viewBox=\"0 0 24 24\"\n",
              "     width=\"24px\">\n",
              "    <g>\n",
              "        <path d=\"M19 3H5c-1.1 0-2 .9-2 2v14c0 1.1.9 2 2 2h14c1.1 0 2-.9 2-2V5c0-1.1-.9-2-2-2zM9 17H7v-7h2v7zm4 0h-2V7h2v10zm4 0h-2v-4h2v4z\"/>\n",
              "    </g>\n",
              "</svg>\n",
              "  </button>\n",
              "\n",
              "<style>\n",
              "  .colab-df-quickchart {\n",
              "    background-color: #E8F0FE;\n",
              "    border: none;\n",
              "    border-radius: 50%;\n",
              "    cursor: pointer;\n",
              "    display: none;\n",
              "    fill: #1967D2;\n",
              "    height: 32px;\n",
              "    padding: 0 0 0 0;\n",
              "    width: 32px;\n",
              "  }\n",
              "\n",
              "  .colab-df-quickchart:hover {\n",
              "    background-color: #E2EBFA;\n",
              "    box-shadow: 0px 1px 2px rgba(60, 64, 67, 0.3), 0px 1px 3px 1px rgba(60, 64, 67, 0.15);\n",
              "    fill: #174EA6;\n",
              "  }\n",
              "\n",
              "  [theme=dark] .colab-df-quickchart {\n",
              "    background-color: #3B4455;\n",
              "    fill: #D2E3FC;\n",
              "  }\n",
              "\n",
              "  [theme=dark] .colab-df-quickchart:hover {\n",
              "    background-color: #434B5C;\n",
              "    box-shadow: 0px 1px 3px 1px rgba(0, 0, 0, 0.15);\n",
              "    filter: drop-shadow(0px 1px 2px rgba(0, 0, 0, 0.3));\n",
              "    fill: #FFFFFF;\n",
              "  }\n",
              "</style>\n",
              "\n",
              "  <script>\n",
              "    async function quickchart(key) {\n",
              "      const charts = await google.colab.kernel.invokeFunction(\n",
              "          'suggestCharts', [key], {});\n",
              "    }\n",
              "    (() => {\n",
              "      let quickchartButtonEl =\n",
              "        document.querySelector('#df-6151e6d9-713e-461c-89a2-c4d1e60e43de button');\n",
              "      quickchartButtonEl.style.display =\n",
              "        google.colab.kernel.accessAllowed ? 'block' : 'none';\n",
              "    })();\n",
              "  </script>\n",
              "</div>\n",
              "    </div>\n",
              "  </div>\n"
            ]
          },
          "metadata": {},
          "execution_count": 25
        }
      ],
      "source": [
        "df3.sample(5)"
      ]
    },
    {
      "cell_type": "code",
      "source": [
        "# export the final file\n",
        "df3.to_csv('olist_order_payments.csv', index=False)"
      ],
      "metadata": {
        "id": "pwXYFrIIe0L_"
      },
      "execution_count": 26,
      "outputs": []
    },
    {
      "cell_type": "markdown",
      "metadata": {
        "id": "hIIf_oC1M6vC"
      },
      "source": [
        "order_review_dataset"
      ]
    },
    {
      "cell_type": "code",
      "execution_count": 27,
      "metadata": {
        "id": "2lokXM90NG1i"
      },
      "outputs": [],
      "source": [
        "import numpy as np\n",
        "import pandas as pd\n",
        "\n",
        "df4 = pd.read_csv('/content/olist_order_reviews_dataset.csv')"
      ]
    },
    {
      "cell_type": "code",
      "execution_count": 28,
      "metadata": {
        "id": "G0ZVJfvSNT2t"
      },
      "outputs": [],
      "source": [
        "# read all rows and columns\n",
        "pd.set_option('display.max_columns', None)\n",
        "pd.set_option('display.max_rows', None)"
      ]
    },
    {
      "cell_type": "code",
      "execution_count": 29,
      "metadata": {
        "id": "vwpX9LuMNWPm",
        "colab": {
          "base_uri": "https://localhost:8080/"
        },
        "outputId": "f54436c2-a027-4bb2-9d4d-78c6c3777bc5"
      },
      "outputs": [
        {
          "output_type": "execute_result",
          "data": {
            "text/plain": [
              "(99224, 7)"
            ]
          },
          "metadata": {},
          "execution_count": 29
        }
      ],
      "source": [
        "# number of rows and columns of dataset\n",
        "df4.shape"
      ]
    },
    {
      "cell_type": "code",
      "execution_count": 30,
      "metadata": {
        "id": "SM0hIb8ENaOC",
        "colab": {
          "base_uri": "https://localhost:8080/"
        },
        "outputId": "3fd40e39-24b8-4876-b957-26bb02ed3aba"
      },
      "outputs": [
        {
          "output_type": "execute_result",
          "data": {
            "text/plain": [
              "Index(['review_id', 'order_id', 'review_score', 'review_comment_title',\n",
              "       'review_comment_message', 'review_creation_date',\n",
              "       'review_answer_timestamp'],\n",
              "      dtype='object')"
            ]
          },
          "metadata": {},
          "execution_count": 30
        }
      ],
      "source": [
        "# columns of dataset\n",
        "df4.columns"
      ]
    },
    {
      "cell_type": "code",
      "execution_count": 31,
      "metadata": {
        "id": "MitZzoVYNiyG",
        "colab": {
          "base_uri": "https://localhost:8080/"
        },
        "outputId": "5aa51e84-9d11-481e-deeb-369c4a33199b"
      },
      "outputs": [
        {
          "output_type": "stream",
          "name": "stdout",
          "text": [
            "<class 'pandas.core.frame.DataFrame'>\n",
            "RangeIndex: 99224 entries, 0 to 99223\n",
            "Data columns (total 7 columns):\n",
            " #   Column                   Non-Null Count  Dtype \n",
            "---  ------                   --------------  ----- \n",
            " 0   review_id                99224 non-null  object\n",
            " 1   order_id                 99224 non-null  object\n",
            " 2   review_score             99224 non-null  int64 \n",
            " 3   review_comment_title     11568 non-null  object\n",
            " 4   review_comment_message   40977 non-null  object\n",
            " 5   review_creation_date     99224 non-null  object\n",
            " 6   review_answer_timestamp  99224 non-null  object\n",
            "dtypes: int64(1), object(6)\n",
            "memory usage: 5.3+ MB\n"
          ]
        }
      ],
      "source": [
        "# data type of each column and null values\n",
        "df4.info()"
      ]
    },
    {
      "cell_type": "code",
      "execution_count": 32,
      "metadata": {
        "id": "_gmh7LmeNqLW"
      },
      "outputs": [],
      "source": [
        "# drop columns\n",
        "df4.drop(columns = ['review_comment_title'], inplace=True)\n",
        "df4.drop(columns = ['review_comment_message'], inplace=True)"
      ]
    },
    {
      "cell_type": "code",
      "execution_count": 33,
      "metadata": {
        "id": "DEwE2IOROQS-"
      },
      "outputs": [],
      "source": [
        "# change datatype for review_creation_date and review_answer_timestamp\n",
        "df4['review_creation_date'] = pd.to_datetime(df4['review_creation_date'])\n",
        "df4['review_answer_timestamp'] = pd.to_datetime(df4['review_answer_timestamp'])"
      ]
    },
    {
      "cell_type": "code",
      "execution_count": 34,
      "metadata": {
        "id": "Q8MMrXDzN4Z9",
        "colab": {
          "base_uri": "https://localhost:8080/"
        },
        "outputId": "5ca665f6-6a91-4bf3-ff93-90ec824eced2"
      },
      "outputs": [
        {
          "output_type": "execute_result",
          "data": {
            "text/plain": [
              "False    99224\n",
              "dtype: int64"
            ]
          },
          "metadata": {},
          "execution_count": 34
        }
      ],
      "source": [
        "# check for duplicate values (no)\n",
        "df4.duplicated().value_counts()"
      ]
    },
    {
      "cell_type": "code",
      "execution_count": 35,
      "metadata": {
        "id": "Rt_uUkasOK0P",
        "colab": {
          "base_uri": "https://localhost:8080/",
          "height": 206
        },
        "outputId": "131c120e-ad01-4dce-9efc-ec0d6a6e6d98"
      },
      "outputs": [
        {
          "output_type": "execute_result",
          "data": {
            "text/plain": [
              "                              review_id                          order_id  \\\n",
              "7520   0e2a9cd112e26220acd43a4e86637ac2  668b09e578d6cdac0eb996a3457d49a5   \n",
              "10994  bb8ab00d21f0fff373f9b63470013abe  98f75acaf1c9b0c2424f3b0fc6a22bdc   \n",
              "61375  3c3f9d6e21d364cf42fe90f8f21224a6  0517edc6ddee491e072a844bfbb54c86   \n",
              "39469  fdbb3651169dcb6787e54d597b35018f  f0ab33ceba10623b929d52fe23fff27b   \n",
              "98356  5a0a62ec4f6f075fc1b2bd44742d9989  e87cef857d6e092b7352e1fb48a82de1   \n",
              "\n",
              "       review_score review_creation_date review_answer_timestamp  \n",
              "7520              5           2018-07-12     2018-07-13 11:27:33  \n",
              "10994             5           2017-06-14     2017-06-14 15:03:40  \n",
              "61375             5           2018-05-03     2018-05-07 10:21:56  \n",
              "39469             5           2017-05-12     2017-05-16 12:59:36  \n",
              "98356             5           2017-08-22     2017-08-22 21:55:53  "
            ],
            "text/html": [
              "\n",
              "  <div id=\"df-2d95ccd8-d1db-4415-aa32-f3e68839010b\" class=\"colab-df-container\">\n",
              "    <div>\n",
              "<style scoped>\n",
              "    .dataframe tbody tr th:only-of-type {\n",
              "        vertical-align: middle;\n",
              "    }\n",
              "\n",
              "    .dataframe tbody tr th {\n",
              "        vertical-align: top;\n",
              "    }\n",
              "\n",
              "    .dataframe thead th {\n",
              "        text-align: right;\n",
              "    }\n",
              "</style>\n",
              "<table border=\"1\" class=\"dataframe\">\n",
              "  <thead>\n",
              "    <tr style=\"text-align: right;\">\n",
              "      <th></th>\n",
              "      <th>review_id</th>\n",
              "      <th>order_id</th>\n",
              "      <th>review_score</th>\n",
              "      <th>review_creation_date</th>\n",
              "      <th>review_answer_timestamp</th>\n",
              "    </tr>\n",
              "  </thead>\n",
              "  <tbody>\n",
              "    <tr>\n",
              "      <th>7520</th>\n",
              "      <td>0e2a9cd112e26220acd43a4e86637ac2</td>\n",
              "      <td>668b09e578d6cdac0eb996a3457d49a5</td>\n",
              "      <td>5</td>\n",
              "      <td>2018-07-12</td>\n",
              "      <td>2018-07-13 11:27:33</td>\n",
              "    </tr>\n",
              "    <tr>\n",
              "      <th>10994</th>\n",
              "      <td>bb8ab00d21f0fff373f9b63470013abe</td>\n",
              "      <td>98f75acaf1c9b0c2424f3b0fc6a22bdc</td>\n",
              "      <td>5</td>\n",
              "      <td>2017-06-14</td>\n",
              "      <td>2017-06-14 15:03:40</td>\n",
              "    </tr>\n",
              "    <tr>\n",
              "      <th>61375</th>\n",
              "      <td>3c3f9d6e21d364cf42fe90f8f21224a6</td>\n",
              "      <td>0517edc6ddee491e072a844bfbb54c86</td>\n",
              "      <td>5</td>\n",
              "      <td>2018-05-03</td>\n",
              "      <td>2018-05-07 10:21:56</td>\n",
              "    </tr>\n",
              "    <tr>\n",
              "      <th>39469</th>\n",
              "      <td>fdbb3651169dcb6787e54d597b35018f</td>\n",
              "      <td>f0ab33ceba10623b929d52fe23fff27b</td>\n",
              "      <td>5</td>\n",
              "      <td>2017-05-12</td>\n",
              "      <td>2017-05-16 12:59:36</td>\n",
              "    </tr>\n",
              "    <tr>\n",
              "      <th>98356</th>\n",
              "      <td>5a0a62ec4f6f075fc1b2bd44742d9989</td>\n",
              "      <td>e87cef857d6e092b7352e1fb48a82de1</td>\n",
              "      <td>5</td>\n",
              "      <td>2017-08-22</td>\n",
              "      <td>2017-08-22 21:55:53</td>\n",
              "    </tr>\n",
              "  </tbody>\n",
              "</table>\n",
              "</div>\n",
              "    <div class=\"colab-df-buttons\">\n",
              "\n",
              "  <div class=\"colab-df-container\">\n",
              "    <button class=\"colab-df-convert\" onclick=\"convertToInteractive('df-2d95ccd8-d1db-4415-aa32-f3e68839010b')\"\n",
              "            title=\"Convert this dataframe to an interactive table.\"\n",
              "            style=\"display:none;\">\n",
              "\n",
              "  <svg xmlns=\"http://www.w3.org/2000/svg\" height=\"24px\" viewBox=\"0 -960 960 960\">\n",
              "    <path d=\"M120-120v-720h720v720H120Zm60-500h600v-160H180v160Zm220 220h160v-160H400v160Zm0 220h160v-160H400v160ZM180-400h160v-160H180v160Zm440 0h160v-160H620v160ZM180-180h160v-160H180v160Zm440 0h160v-160H620v160Z\"/>\n",
              "  </svg>\n",
              "    </button>\n",
              "\n",
              "  <style>\n",
              "    .colab-df-container {\n",
              "      display:flex;\n",
              "      gap: 12px;\n",
              "    }\n",
              "\n",
              "    .colab-df-convert {\n",
              "      background-color: #E8F0FE;\n",
              "      border: none;\n",
              "      border-radius: 50%;\n",
              "      cursor: pointer;\n",
              "      display: none;\n",
              "      fill: #1967D2;\n",
              "      height: 32px;\n",
              "      padding: 0 0 0 0;\n",
              "      width: 32px;\n",
              "    }\n",
              "\n",
              "    .colab-df-convert:hover {\n",
              "      background-color: #E2EBFA;\n",
              "      box-shadow: 0px 1px 2px rgba(60, 64, 67, 0.3), 0px 1px 3px 1px rgba(60, 64, 67, 0.15);\n",
              "      fill: #174EA6;\n",
              "    }\n",
              "\n",
              "    .colab-df-buttons div {\n",
              "      margin-bottom: 4px;\n",
              "    }\n",
              "\n",
              "    [theme=dark] .colab-df-convert {\n",
              "      background-color: #3B4455;\n",
              "      fill: #D2E3FC;\n",
              "    }\n",
              "\n",
              "    [theme=dark] .colab-df-convert:hover {\n",
              "      background-color: #434B5C;\n",
              "      box-shadow: 0px 1px 3px 1px rgba(0, 0, 0, 0.15);\n",
              "      filter: drop-shadow(0px 1px 2px rgba(0, 0, 0, 0.3));\n",
              "      fill: #FFFFFF;\n",
              "    }\n",
              "  </style>\n",
              "\n",
              "    <script>\n",
              "      const buttonEl =\n",
              "        document.querySelector('#df-2d95ccd8-d1db-4415-aa32-f3e68839010b button.colab-df-convert');\n",
              "      buttonEl.style.display =\n",
              "        google.colab.kernel.accessAllowed ? 'block' : 'none';\n",
              "\n",
              "      async function convertToInteractive(key) {\n",
              "        const element = document.querySelector('#df-2d95ccd8-d1db-4415-aa32-f3e68839010b');\n",
              "        const dataTable =\n",
              "          await google.colab.kernel.invokeFunction('convertToInteractive',\n",
              "                                                    [key], {});\n",
              "        if (!dataTable) return;\n",
              "\n",
              "        const docLinkHtml = 'Like what you see? Visit the ' +\n",
              "          '<a target=\"_blank\" href=https://colab.research.google.com/notebooks/data_table.ipynb>data table notebook</a>'\n",
              "          + ' to learn more about interactive tables.';\n",
              "        element.innerHTML = '';\n",
              "        dataTable['output_type'] = 'display_data';\n",
              "        await google.colab.output.renderOutput(dataTable, element);\n",
              "        const docLink = document.createElement('div');\n",
              "        docLink.innerHTML = docLinkHtml;\n",
              "        element.appendChild(docLink);\n",
              "      }\n",
              "    </script>\n",
              "  </div>\n",
              "\n",
              "\n",
              "<div id=\"df-6f534976-a1c3-4c19-b2c0-e1e974f0cd57\">\n",
              "  <button class=\"colab-df-quickchart\" onclick=\"quickchart('df-6f534976-a1c3-4c19-b2c0-e1e974f0cd57')\"\n",
              "            title=\"Suggest charts.\"\n",
              "            style=\"display:none;\">\n",
              "\n",
              "<svg xmlns=\"http://www.w3.org/2000/svg\" height=\"24px\"viewBox=\"0 0 24 24\"\n",
              "     width=\"24px\">\n",
              "    <g>\n",
              "        <path d=\"M19 3H5c-1.1 0-2 .9-2 2v14c0 1.1.9 2 2 2h14c1.1 0 2-.9 2-2V5c0-1.1-.9-2-2-2zM9 17H7v-7h2v7zm4 0h-2V7h2v10zm4 0h-2v-4h2v4z\"/>\n",
              "    </g>\n",
              "</svg>\n",
              "  </button>\n",
              "\n",
              "<style>\n",
              "  .colab-df-quickchart {\n",
              "    background-color: #E8F0FE;\n",
              "    border: none;\n",
              "    border-radius: 50%;\n",
              "    cursor: pointer;\n",
              "    display: none;\n",
              "    fill: #1967D2;\n",
              "    height: 32px;\n",
              "    padding: 0 0 0 0;\n",
              "    width: 32px;\n",
              "  }\n",
              "\n",
              "  .colab-df-quickchart:hover {\n",
              "    background-color: #E2EBFA;\n",
              "    box-shadow: 0px 1px 2px rgba(60, 64, 67, 0.3), 0px 1px 3px 1px rgba(60, 64, 67, 0.15);\n",
              "    fill: #174EA6;\n",
              "  }\n",
              "\n",
              "  [theme=dark] .colab-df-quickchart {\n",
              "    background-color: #3B4455;\n",
              "    fill: #D2E3FC;\n",
              "  }\n",
              "\n",
              "  [theme=dark] .colab-df-quickchart:hover {\n",
              "    background-color: #434B5C;\n",
              "    box-shadow: 0px 1px 3px 1px rgba(0, 0, 0, 0.15);\n",
              "    filter: drop-shadow(0px 1px 2px rgba(0, 0, 0, 0.3));\n",
              "    fill: #FFFFFF;\n",
              "  }\n",
              "</style>\n",
              "\n",
              "  <script>\n",
              "    async function quickchart(key) {\n",
              "      const charts = await google.colab.kernel.invokeFunction(\n",
              "          'suggestCharts', [key], {});\n",
              "    }\n",
              "    (() => {\n",
              "      let quickchartButtonEl =\n",
              "        document.querySelector('#df-6f534976-a1c3-4c19-b2c0-e1e974f0cd57 button');\n",
              "      quickchartButtonEl.style.display =\n",
              "        google.colab.kernel.accessAllowed ? 'block' : 'none';\n",
              "    })();\n",
              "  </script>\n",
              "</div>\n",
              "    </div>\n",
              "  </div>\n"
            ]
          },
          "metadata": {},
          "execution_count": 35
        }
      ],
      "source": [
        "df4.sample(5)"
      ]
    },
    {
      "cell_type": "code",
      "source": [
        "# export the final file\n",
        "df4.to_csv('olist_order_reviews.csv', index=False)"
      ],
      "metadata": {
        "id": "A5jktxuzfHJC"
      },
      "execution_count": 36,
      "outputs": []
    },
    {
      "cell_type": "markdown",
      "metadata": {
        "id": "CJ6L7ouUOgzl"
      },
      "source": [
        "orders_dataset"
      ]
    },
    {
      "cell_type": "code",
      "execution_count": 37,
      "metadata": {
        "id": "_l2AqhAAOkSU"
      },
      "outputs": [],
      "source": [
        "import numpy as np\n",
        "import pandas as pd\n",
        "\n",
        "df5 = pd.read_csv('/content/olist_orders_dataset.csv')"
      ]
    },
    {
      "cell_type": "code",
      "execution_count": 38,
      "metadata": {
        "id": "OUZDfNX_OqnX"
      },
      "outputs": [],
      "source": [
        "# read all rows and columns\n",
        "pd.set_option('display.max_columns', None)\n",
        "pd.set_option('display.max_rows', None)"
      ]
    },
    {
      "cell_type": "code",
      "execution_count": 39,
      "metadata": {
        "id": "TQciXO1qOsAu",
        "colab": {
          "base_uri": "https://localhost:8080/"
        },
        "outputId": "96029921-4fc1-4d52-be07-ed150bd3bdd8"
      },
      "outputs": [
        {
          "output_type": "execute_result",
          "data": {
            "text/plain": [
              "(99441, 8)"
            ]
          },
          "metadata": {},
          "execution_count": 39
        }
      ],
      "source": [
        "# number of rows and columns of dataset\n",
        "df5.shape"
      ]
    },
    {
      "cell_type": "code",
      "execution_count": 40,
      "metadata": {
        "id": "x7c-fwsYOvk3",
        "colab": {
          "base_uri": "https://localhost:8080/"
        },
        "outputId": "315857a5-a610-4c35-e2ce-0e7d145bd8c3"
      },
      "outputs": [
        {
          "output_type": "execute_result",
          "data": {
            "text/plain": [
              "Index(['order_id', 'customer_id', 'order_status', 'order_purchase_timestamp',\n",
              "       'order_approved_at', 'order_delivered_carrier_date',\n",
              "       'order_delivered_customer_date', 'order_estimated_delivery_date'],\n",
              "      dtype='object')"
            ]
          },
          "metadata": {},
          "execution_count": 40
        }
      ],
      "source": [
        "# columns of dataset\n",
        "df5.columns"
      ]
    },
    {
      "cell_type": "code",
      "execution_count": 41,
      "metadata": {
        "id": "SY1YILxoOw_o",
        "colab": {
          "base_uri": "https://localhost:8080/"
        },
        "outputId": "61c8a3fd-f2f6-4b49-ae7f-027a7df358fb"
      },
      "outputs": [
        {
          "output_type": "stream",
          "name": "stdout",
          "text": [
            "<class 'pandas.core.frame.DataFrame'>\n",
            "RangeIndex: 99441 entries, 0 to 99440\n",
            "Data columns (total 8 columns):\n",
            " #   Column                         Non-Null Count  Dtype \n",
            "---  ------                         --------------  ----- \n",
            " 0   order_id                       99441 non-null  object\n",
            " 1   customer_id                    99441 non-null  object\n",
            " 2   order_status                   99441 non-null  object\n",
            " 3   order_purchase_timestamp       99441 non-null  object\n",
            " 4   order_approved_at              99281 non-null  object\n",
            " 5   order_delivered_carrier_date   97658 non-null  object\n",
            " 6   order_delivered_customer_date  96476 non-null  object\n",
            " 7   order_estimated_delivery_date  99441 non-null  object\n",
            "dtypes: object(8)\n",
            "memory usage: 6.1+ MB\n"
          ]
        }
      ],
      "source": [
        "# data type of each column and null values\n",
        "df5.info()"
      ]
    },
    {
      "cell_type": "code",
      "execution_count": 42,
      "metadata": {
        "id": "oOwre0MFPGSX"
      },
      "outputs": [],
      "source": [
        "# change datatype for data columns\n",
        "df5['order_purchase_timestamp'] = pd.to_datetime(df5['order_purchase_timestamp'])\n",
        "df5['order_approved_at'] = pd.to_datetime(df5['order_approved_at'])\n",
        "df5['order_delivered_carrier_date'] = pd.to_datetime(df5['order_delivered_carrier_date'])\n",
        "df5['order_delivered_customer_date'] = pd.to_datetime(df5['order_delivered_customer_date'])\n",
        "df5['order_estimated_delivery_date'] = pd.to_datetime(df5['order_estimated_delivery_date'])"
      ]
    },
    {
      "cell_type": "code",
      "execution_count": 43,
      "metadata": {
        "id": "Wp8S1kTqQOsv",
        "colab": {
          "base_uri": "https://localhost:8080/"
        },
        "outputId": "5f81522e-5b0d-434c-b4a7-47c436dc8558"
      },
      "outputs": [
        {
          "output_type": "execute_result",
          "data": {
            "text/plain": [
              "False    99441\n",
              "dtype: int64"
            ]
          },
          "metadata": {},
          "execution_count": 43
        }
      ],
      "source": [
        "# check for duplicate values (no)\n",
        "df5.duplicated().value_counts()"
      ]
    },
    {
      "cell_type": "code",
      "execution_count": 44,
      "metadata": {
        "id": "nLtkK9GPQQwE",
        "colab": {
          "base_uri": "https://localhost:8080/",
          "height": 226
        },
        "outputId": "53f384ed-50b7-4305-bb11-1d2abb40bcba"
      },
      "outputs": [
        {
          "output_type": "execute_result",
          "data": {
            "text/plain": [
              "                               order_id                       customer_id  \\\n",
              "56273  c261c57774808b333866f1957d4f8ebd  a5deab37103ca8c97bc8b9adb7de4c9b   \n",
              "14449  afa891fe2077e4e3301629891009a47d  6d6414a8eb7e7e516280747b41470e55   \n",
              "55408  cafe1030b50f6fbe232a1532e95c89a6  5736944f51ca2a7e68fa3180b5b499da   \n",
              "21298  10c12ecab799c32c29b4df3a203ecaa8  2958f7dccf3976fef64e82ec6d3b562b   \n",
              "38489  b7efe64319f69973a0924eb8e7a1ed3e  a328e11781c6b668cea0a2bda09ed9d3   \n",
              "\n",
              "      order_status order_purchase_timestamp   order_approved_at  \\\n",
              "56273    delivered      2018-02-21 22:57:17 2018-02-21 23:10:24   \n",
              "14449    delivered      2018-06-21 19:07:44 2018-06-21 19:21:39   \n",
              "55408    delivered      2018-02-19 16:50:58 2018-02-19 17:55:41   \n",
              "21298    delivered      2017-02-08 08:34:04 2017-02-08 08:45:18   \n",
              "38489    delivered      2017-12-28 16:42:46 2017-12-28 16:50:27   \n",
              "\n",
              "      order_delivered_carrier_date order_delivered_customer_date  \\\n",
              "56273          2018-02-22 18:52:17           2018-03-02 12:41:46   \n",
              "14449          2018-06-22 12:26:00           2018-06-29 19:06:44   \n",
              "55408          2018-02-22 00:50:35           2018-03-19 22:46:39   \n",
              "21298          2017-02-08 10:33:02           2017-02-15 14:45:40   \n",
              "38489          2017-12-29 16:04:01           2018-01-23 18:27:55   \n",
              "\n",
              "      order_estimated_delivery_date  \n",
              "56273                    2018-03-08  \n",
              "14449                    2018-07-25  \n",
              "55408                    2018-03-09  \n",
              "21298                    2017-03-09  \n",
              "38489                    2018-02-01  "
            ],
            "text/html": [
              "\n",
              "  <div id=\"df-5307a247-6270-47ce-b396-8dd6d886e02f\" class=\"colab-df-container\">\n",
              "    <div>\n",
              "<style scoped>\n",
              "    .dataframe tbody tr th:only-of-type {\n",
              "        vertical-align: middle;\n",
              "    }\n",
              "\n",
              "    .dataframe tbody tr th {\n",
              "        vertical-align: top;\n",
              "    }\n",
              "\n",
              "    .dataframe thead th {\n",
              "        text-align: right;\n",
              "    }\n",
              "</style>\n",
              "<table border=\"1\" class=\"dataframe\">\n",
              "  <thead>\n",
              "    <tr style=\"text-align: right;\">\n",
              "      <th></th>\n",
              "      <th>order_id</th>\n",
              "      <th>customer_id</th>\n",
              "      <th>order_status</th>\n",
              "      <th>order_purchase_timestamp</th>\n",
              "      <th>order_approved_at</th>\n",
              "      <th>order_delivered_carrier_date</th>\n",
              "      <th>order_delivered_customer_date</th>\n",
              "      <th>order_estimated_delivery_date</th>\n",
              "    </tr>\n",
              "  </thead>\n",
              "  <tbody>\n",
              "    <tr>\n",
              "      <th>56273</th>\n",
              "      <td>c261c57774808b333866f1957d4f8ebd</td>\n",
              "      <td>a5deab37103ca8c97bc8b9adb7de4c9b</td>\n",
              "      <td>delivered</td>\n",
              "      <td>2018-02-21 22:57:17</td>\n",
              "      <td>2018-02-21 23:10:24</td>\n",
              "      <td>2018-02-22 18:52:17</td>\n",
              "      <td>2018-03-02 12:41:46</td>\n",
              "      <td>2018-03-08</td>\n",
              "    </tr>\n",
              "    <tr>\n",
              "      <th>14449</th>\n",
              "      <td>afa891fe2077e4e3301629891009a47d</td>\n",
              "      <td>6d6414a8eb7e7e516280747b41470e55</td>\n",
              "      <td>delivered</td>\n",
              "      <td>2018-06-21 19:07:44</td>\n",
              "      <td>2018-06-21 19:21:39</td>\n",
              "      <td>2018-06-22 12:26:00</td>\n",
              "      <td>2018-06-29 19:06:44</td>\n",
              "      <td>2018-07-25</td>\n",
              "    </tr>\n",
              "    <tr>\n",
              "      <th>55408</th>\n",
              "      <td>cafe1030b50f6fbe232a1532e95c89a6</td>\n",
              "      <td>5736944f51ca2a7e68fa3180b5b499da</td>\n",
              "      <td>delivered</td>\n",
              "      <td>2018-02-19 16:50:58</td>\n",
              "      <td>2018-02-19 17:55:41</td>\n",
              "      <td>2018-02-22 00:50:35</td>\n",
              "      <td>2018-03-19 22:46:39</td>\n",
              "      <td>2018-03-09</td>\n",
              "    </tr>\n",
              "    <tr>\n",
              "      <th>21298</th>\n",
              "      <td>10c12ecab799c32c29b4df3a203ecaa8</td>\n",
              "      <td>2958f7dccf3976fef64e82ec6d3b562b</td>\n",
              "      <td>delivered</td>\n",
              "      <td>2017-02-08 08:34:04</td>\n",
              "      <td>2017-02-08 08:45:18</td>\n",
              "      <td>2017-02-08 10:33:02</td>\n",
              "      <td>2017-02-15 14:45:40</td>\n",
              "      <td>2017-03-09</td>\n",
              "    </tr>\n",
              "    <tr>\n",
              "      <th>38489</th>\n",
              "      <td>b7efe64319f69973a0924eb8e7a1ed3e</td>\n",
              "      <td>a328e11781c6b668cea0a2bda09ed9d3</td>\n",
              "      <td>delivered</td>\n",
              "      <td>2017-12-28 16:42:46</td>\n",
              "      <td>2017-12-28 16:50:27</td>\n",
              "      <td>2017-12-29 16:04:01</td>\n",
              "      <td>2018-01-23 18:27:55</td>\n",
              "      <td>2018-02-01</td>\n",
              "    </tr>\n",
              "  </tbody>\n",
              "</table>\n",
              "</div>\n",
              "    <div class=\"colab-df-buttons\">\n",
              "\n",
              "  <div class=\"colab-df-container\">\n",
              "    <button class=\"colab-df-convert\" onclick=\"convertToInteractive('df-5307a247-6270-47ce-b396-8dd6d886e02f')\"\n",
              "            title=\"Convert this dataframe to an interactive table.\"\n",
              "            style=\"display:none;\">\n",
              "\n",
              "  <svg xmlns=\"http://www.w3.org/2000/svg\" height=\"24px\" viewBox=\"0 -960 960 960\">\n",
              "    <path d=\"M120-120v-720h720v720H120Zm60-500h600v-160H180v160Zm220 220h160v-160H400v160Zm0 220h160v-160H400v160ZM180-400h160v-160H180v160Zm440 0h160v-160H620v160ZM180-180h160v-160H180v160Zm440 0h160v-160H620v160Z\"/>\n",
              "  </svg>\n",
              "    </button>\n",
              "\n",
              "  <style>\n",
              "    .colab-df-container {\n",
              "      display:flex;\n",
              "      gap: 12px;\n",
              "    }\n",
              "\n",
              "    .colab-df-convert {\n",
              "      background-color: #E8F0FE;\n",
              "      border: none;\n",
              "      border-radius: 50%;\n",
              "      cursor: pointer;\n",
              "      display: none;\n",
              "      fill: #1967D2;\n",
              "      height: 32px;\n",
              "      padding: 0 0 0 0;\n",
              "      width: 32px;\n",
              "    }\n",
              "\n",
              "    .colab-df-convert:hover {\n",
              "      background-color: #E2EBFA;\n",
              "      box-shadow: 0px 1px 2px rgba(60, 64, 67, 0.3), 0px 1px 3px 1px rgba(60, 64, 67, 0.15);\n",
              "      fill: #174EA6;\n",
              "    }\n",
              "\n",
              "    .colab-df-buttons div {\n",
              "      margin-bottom: 4px;\n",
              "    }\n",
              "\n",
              "    [theme=dark] .colab-df-convert {\n",
              "      background-color: #3B4455;\n",
              "      fill: #D2E3FC;\n",
              "    }\n",
              "\n",
              "    [theme=dark] .colab-df-convert:hover {\n",
              "      background-color: #434B5C;\n",
              "      box-shadow: 0px 1px 3px 1px rgba(0, 0, 0, 0.15);\n",
              "      filter: drop-shadow(0px 1px 2px rgba(0, 0, 0, 0.3));\n",
              "      fill: #FFFFFF;\n",
              "    }\n",
              "  </style>\n",
              "\n",
              "    <script>\n",
              "      const buttonEl =\n",
              "        document.querySelector('#df-5307a247-6270-47ce-b396-8dd6d886e02f button.colab-df-convert');\n",
              "      buttonEl.style.display =\n",
              "        google.colab.kernel.accessAllowed ? 'block' : 'none';\n",
              "\n",
              "      async function convertToInteractive(key) {\n",
              "        const element = document.querySelector('#df-5307a247-6270-47ce-b396-8dd6d886e02f');\n",
              "        const dataTable =\n",
              "          await google.colab.kernel.invokeFunction('convertToInteractive',\n",
              "                                                    [key], {});\n",
              "        if (!dataTable) return;\n",
              "\n",
              "        const docLinkHtml = 'Like what you see? Visit the ' +\n",
              "          '<a target=\"_blank\" href=https://colab.research.google.com/notebooks/data_table.ipynb>data table notebook</a>'\n",
              "          + ' to learn more about interactive tables.';\n",
              "        element.innerHTML = '';\n",
              "        dataTable['output_type'] = 'display_data';\n",
              "        await google.colab.output.renderOutput(dataTable, element);\n",
              "        const docLink = document.createElement('div');\n",
              "        docLink.innerHTML = docLinkHtml;\n",
              "        element.appendChild(docLink);\n",
              "      }\n",
              "    </script>\n",
              "  </div>\n",
              "\n",
              "\n",
              "<div id=\"df-b4d16d2f-ce94-477e-98e1-9e453b3c40dd\">\n",
              "  <button class=\"colab-df-quickchart\" onclick=\"quickchart('df-b4d16d2f-ce94-477e-98e1-9e453b3c40dd')\"\n",
              "            title=\"Suggest charts.\"\n",
              "            style=\"display:none;\">\n",
              "\n",
              "<svg xmlns=\"http://www.w3.org/2000/svg\" height=\"24px\"viewBox=\"0 0 24 24\"\n",
              "     width=\"24px\">\n",
              "    <g>\n",
              "        <path d=\"M19 3H5c-1.1 0-2 .9-2 2v14c0 1.1.9 2 2 2h14c1.1 0 2-.9 2-2V5c0-1.1-.9-2-2-2zM9 17H7v-7h2v7zm4 0h-2V7h2v10zm4 0h-2v-4h2v4z\"/>\n",
              "    </g>\n",
              "</svg>\n",
              "  </button>\n",
              "\n",
              "<style>\n",
              "  .colab-df-quickchart {\n",
              "    background-color: #E8F0FE;\n",
              "    border: none;\n",
              "    border-radius: 50%;\n",
              "    cursor: pointer;\n",
              "    display: none;\n",
              "    fill: #1967D2;\n",
              "    height: 32px;\n",
              "    padding: 0 0 0 0;\n",
              "    width: 32px;\n",
              "  }\n",
              "\n",
              "  .colab-df-quickchart:hover {\n",
              "    background-color: #E2EBFA;\n",
              "    box-shadow: 0px 1px 2px rgba(60, 64, 67, 0.3), 0px 1px 3px 1px rgba(60, 64, 67, 0.15);\n",
              "    fill: #174EA6;\n",
              "  }\n",
              "\n",
              "  [theme=dark] .colab-df-quickchart {\n",
              "    background-color: #3B4455;\n",
              "    fill: #D2E3FC;\n",
              "  }\n",
              "\n",
              "  [theme=dark] .colab-df-quickchart:hover {\n",
              "    background-color: #434B5C;\n",
              "    box-shadow: 0px 1px 3px 1px rgba(0, 0, 0, 0.15);\n",
              "    filter: drop-shadow(0px 1px 2px rgba(0, 0, 0, 0.3));\n",
              "    fill: #FFFFFF;\n",
              "  }\n",
              "</style>\n",
              "\n",
              "  <script>\n",
              "    async function quickchart(key) {\n",
              "      const charts = await google.colab.kernel.invokeFunction(\n",
              "          'suggestCharts', [key], {});\n",
              "    }\n",
              "    (() => {\n",
              "      let quickchartButtonEl =\n",
              "        document.querySelector('#df-b4d16d2f-ce94-477e-98e1-9e453b3c40dd button');\n",
              "      quickchartButtonEl.style.display =\n",
              "        google.colab.kernel.accessAllowed ? 'block' : 'none';\n",
              "    })();\n",
              "  </script>\n",
              "</div>\n",
              "    </div>\n",
              "  </div>\n"
            ]
          },
          "metadata": {},
          "execution_count": 44
        }
      ],
      "source": [
        "df5.sample(5)"
      ]
    },
    {
      "cell_type": "code",
      "source": [
        "# export the final file\n",
        "df5.to_csv('olist_orders.csv', index=False)"
      ],
      "metadata": {
        "id": "aTCoJQn0fU-G"
      },
      "execution_count": 45,
      "outputs": []
    },
    {
      "cell_type": "markdown",
      "metadata": {
        "id": "Dy_P_qjwRPqZ"
      },
      "source": [
        "products_dataset"
      ]
    },
    {
      "cell_type": "code",
      "execution_count": 46,
      "metadata": {
        "id": "rQkSUdz-RTvx"
      },
      "outputs": [],
      "source": [
        "import numpy as np\n",
        "import pandas as pd\n",
        "\n",
        "df6 = pd.read_csv('/content/olist_products_dataset.csv')"
      ]
    },
    {
      "cell_type": "code",
      "execution_count": 47,
      "metadata": {
        "id": "XrIsdUpqRV2b"
      },
      "outputs": [],
      "source": [
        "# read all rows and columns\n",
        "pd.set_option('display.max_columns', None)\n",
        "pd.set_option('display.max_rows', None)"
      ]
    },
    {
      "cell_type": "code",
      "execution_count": 48,
      "metadata": {
        "id": "x-VNvHYsRXiR",
        "colab": {
          "base_uri": "https://localhost:8080/"
        },
        "outputId": "06a28698-c259-4cce-c1e2-0fc7ed0ee419"
      },
      "outputs": [
        {
          "output_type": "execute_result",
          "data": {
            "text/plain": [
              "(32951, 9)"
            ]
          },
          "metadata": {},
          "execution_count": 48
        }
      ],
      "source": [
        "# number of rows and columns of dataset\n",
        "df6.shape"
      ]
    },
    {
      "cell_type": "code",
      "execution_count": 49,
      "metadata": {
        "id": "fFyq5IJ4RaKv",
        "colab": {
          "base_uri": "https://localhost:8080/"
        },
        "outputId": "9e6f882d-970f-477f-d710-d933e43e1e5c"
      },
      "outputs": [
        {
          "output_type": "execute_result",
          "data": {
            "text/plain": [
              "Index(['product_id', 'product_category_name', 'product_name_lenght',\n",
              "       'product_description_lenght', 'product_photos_qty', 'product_weight_g',\n",
              "       'product_length_cm', 'product_height_cm', 'product_width_cm'],\n",
              "      dtype='object')"
            ]
          },
          "metadata": {},
          "execution_count": 49
        }
      ],
      "source": [
        "# columns of dataset\n",
        "df6.columns"
      ]
    },
    {
      "cell_type": "code",
      "execution_count": 50,
      "metadata": {
        "colab": {
          "base_uri": "https://localhost:8080/"
        },
        "id": "q5I0uCTuRdiL",
        "outputId": "8f4535d3-cacf-45c0-ceca-3ca0fc5cf049"
      },
      "outputs": [
        {
          "output_type": "stream",
          "name": "stdout",
          "text": [
            "<class 'pandas.core.frame.DataFrame'>\n",
            "RangeIndex: 32951 entries, 0 to 32950\n",
            "Data columns (total 9 columns):\n",
            " #   Column                      Non-Null Count  Dtype  \n",
            "---  ------                      --------------  -----  \n",
            " 0   product_id                  32951 non-null  object \n",
            " 1   product_category_name       32341 non-null  object \n",
            " 2   product_name_lenght         32341 non-null  float64\n",
            " 3   product_description_lenght  32341 non-null  float64\n",
            " 4   product_photos_qty          32341 non-null  float64\n",
            " 5   product_weight_g            32949 non-null  float64\n",
            " 6   product_length_cm           32949 non-null  float64\n",
            " 7   product_height_cm           32949 non-null  float64\n",
            " 8   product_width_cm            32949 non-null  float64\n",
            "dtypes: float64(7), object(2)\n",
            "memory usage: 2.3+ MB\n"
          ]
        }
      ],
      "source": [
        "# data type of each column and null values\n",
        "df6.info()"
      ]
    },
    {
      "cell_type": "code",
      "execution_count": 51,
      "metadata": {
        "id": "7u1xvr98RwrA"
      },
      "outputs": [],
      "source": [
        "# drop columns\n",
        "df6.drop(columns = ['product_name_lenght'], inplace=True)\n",
        "df6.drop(columns = ['product_description_lenght'], inplace=True)"
      ]
    },
    {
      "cell_type": "markdown",
      "metadata": {
        "id": "qFaKabJ8R4dS"
      },
      "source": [
        "Drop Portuguese product names and change to English (product_category_name_translation)\n",
        "\n"
      ]
    },
    {
      "cell_type": "code",
      "execution_count": 52,
      "metadata": {
        "id": "X_yBb4_iUIX_"
      },
      "outputs": [],
      "source": [
        "import numpy as np\n",
        "import pandas as pd\n",
        "\n",
        "df7 = pd.read_csv('/content/product_category_name_translation.csv')"
      ]
    },
    {
      "cell_type": "code",
      "source": [
        "# merge data\n",
        "df67 = pd.merge(df6, df7, on='product_category_name', how='left')"
      ],
      "metadata": {
        "id": "7uVnBpwqZec5"
      },
      "execution_count": 53,
      "outputs": []
    },
    {
      "cell_type": "code",
      "source": [
        "# drop portuguese names\n",
        "df67.drop(columns = ['product_category_name'], inplace=True)\n",
        "df67.head(5)"
      ],
      "metadata": {
        "id": "-U_K7GXzZ0o1",
        "colab": {
          "base_uri": "https://localhost:8080/",
          "height": 226
        },
        "outputId": "d5ef13b6-65bc-4d87-ae7a-15cc2a44ae66"
      },
      "execution_count": 54,
      "outputs": [
        {
          "output_type": "execute_result",
          "data": {
            "text/plain": [
              "                         product_id  product_photos_qty  product_weight_g  \\\n",
              "0  1e9e8ef04dbcff4541ed26657ea517e5                 1.0             225.0   \n",
              "1  3aa071139cb16b67ca9e5dea641aaa2f                 1.0            1000.0   \n",
              "2  96bd76ec8810374ed1b65e291975717f                 1.0             154.0   \n",
              "3  cef67bcfe19066a932b7673e239eb23d                 1.0             371.0   \n",
              "4  9dc1a7de274444849c219cff195d0b71                 4.0             625.0   \n",
              "\n",
              "   product_length_cm  product_height_cm  product_width_cm  \\\n",
              "0               16.0               10.0              14.0   \n",
              "1               30.0               18.0              20.0   \n",
              "2               18.0                9.0              15.0   \n",
              "3               26.0                4.0              26.0   \n",
              "4               20.0               17.0              13.0   \n",
              "\n",
              "  product_category_name_english  \n",
              "0                     perfumery  \n",
              "1                           art  \n",
              "2                sports_leisure  \n",
              "3                          baby  \n",
              "4                    housewares  "
            ],
            "text/html": [
              "\n",
              "  <div id=\"df-a061ea4b-1b34-4d8c-8c11-a6f8c96ba082\" class=\"colab-df-container\">\n",
              "    <div>\n",
              "<style scoped>\n",
              "    .dataframe tbody tr th:only-of-type {\n",
              "        vertical-align: middle;\n",
              "    }\n",
              "\n",
              "    .dataframe tbody tr th {\n",
              "        vertical-align: top;\n",
              "    }\n",
              "\n",
              "    .dataframe thead th {\n",
              "        text-align: right;\n",
              "    }\n",
              "</style>\n",
              "<table border=\"1\" class=\"dataframe\">\n",
              "  <thead>\n",
              "    <tr style=\"text-align: right;\">\n",
              "      <th></th>\n",
              "      <th>product_id</th>\n",
              "      <th>product_photos_qty</th>\n",
              "      <th>product_weight_g</th>\n",
              "      <th>product_length_cm</th>\n",
              "      <th>product_height_cm</th>\n",
              "      <th>product_width_cm</th>\n",
              "      <th>product_category_name_english</th>\n",
              "    </tr>\n",
              "  </thead>\n",
              "  <tbody>\n",
              "    <tr>\n",
              "      <th>0</th>\n",
              "      <td>1e9e8ef04dbcff4541ed26657ea517e5</td>\n",
              "      <td>1.0</td>\n",
              "      <td>225.0</td>\n",
              "      <td>16.0</td>\n",
              "      <td>10.0</td>\n",
              "      <td>14.0</td>\n",
              "      <td>perfumery</td>\n",
              "    </tr>\n",
              "    <tr>\n",
              "      <th>1</th>\n",
              "      <td>3aa071139cb16b67ca9e5dea641aaa2f</td>\n",
              "      <td>1.0</td>\n",
              "      <td>1000.0</td>\n",
              "      <td>30.0</td>\n",
              "      <td>18.0</td>\n",
              "      <td>20.0</td>\n",
              "      <td>art</td>\n",
              "    </tr>\n",
              "    <tr>\n",
              "      <th>2</th>\n",
              "      <td>96bd76ec8810374ed1b65e291975717f</td>\n",
              "      <td>1.0</td>\n",
              "      <td>154.0</td>\n",
              "      <td>18.0</td>\n",
              "      <td>9.0</td>\n",
              "      <td>15.0</td>\n",
              "      <td>sports_leisure</td>\n",
              "    </tr>\n",
              "    <tr>\n",
              "      <th>3</th>\n",
              "      <td>cef67bcfe19066a932b7673e239eb23d</td>\n",
              "      <td>1.0</td>\n",
              "      <td>371.0</td>\n",
              "      <td>26.0</td>\n",
              "      <td>4.0</td>\n",
              "      <td>26.0</td>\n",
              "      <td>baby</td>\n",
              "    </tr>\n",
              "    <tr>\n",
              "      <th>4</th>\n",
              "      <td>9dc1a7de274444849c219cff195d0b71</td>\n",
              "      <td>4.0</td>\n",
              "      <td>625.0</td>\n",
              "      <td>20.0</td>\n",
              "      <td>17.0</td>\n",
              "      <td>13.0</td>\n",
              "      <td>housewares</td>\n",
              "    </tr>\n",
              "  </tbody>\n",
              "</table>\n",
              "</div>\n",
              "    <div class=\"colab-df-buttons\">\n",
              "\n",
              "  <div class=\"colab-df-container\">\n",
              "    <button class=\"colab-df-convert\" onclick=\"convertToInteractive('df-a061ea4b-1b34-4d8c-8c11-a6f8c96ba082')\"\n",
              "            title=\"Convert this dataframe to an interactive table.\"\n",
              "            style=\"display:none;\">\n",
              "\n",
              "  <svg xmlns=\"http://www.w3.org/2000/svg\" height=\"24px\" viewBox=\"0 -960 960 960\">\n",
              "    <path d=\"M120-120v-720h720v720H120Zm60-500h600v-160H180v160Zm220 220h160v-160H400v160Zm0 220h160v-160H400v160ZM180-400h160v-160H180v160Zm440 0h160v-160H620v160ZM180-180h160v-160H180v160Zm440 0h160v-160H620v160Z\"/>\n",
              "  </svg>\n",
              "    </button>\n",
              "\n",
              "  <style>\n",
              "    .colab-df-container {\n",
              "      display:flex;\n",
              "      gap: 12px;\n",
              "    }\n",
              "\n",
              "    .colab-df-convert {\n",
              "      background-color: #E8F0FE;\n",
              "      border: none;\n",
              "      border-radius: 50%;\n",
              "      cursor: pointer;\n",
              "      display: none;\n",
              "      fill: #1967D2;\n",
              "      height: 32px;\n",
              "      padding: 0 0 0 0;\n",
              "      width: 32px;\n",
              "    }\n",
              "\n",
              "    .colab-df-convert:hover {\n",
              "      background-color: #E2EBFA;\n",
              "      box-shadow: 0px 1px 2px rgba(60, 64, 67, 0.3), 0px 1px 3px 1px rgba(60, 64, 67, 0.15);\n",
              "      fill: #174EA6;\n",
              "    }\n",
              "\n",
              "    .colab-df-buttons div {\n",
              "      margin-bottom: 4px;\n",
              "    }\n",
              "\n",
              "    [theme=dark] .colab-df-convert {\n",
              "      background-color: #3B4455;\n",
              "      fill: #D2E3FC;\n",
              "    }\n",
              "\n",
              "    [theme=dark] .colab-df-convert:hover {\n",
              "      background-color: #434B5C;\n",
              "      box-shadow: 0px 1px 3px 1px rgba(0, 0, 0, 0.15);\n",
              "      filter: drop-shadow(0px 1px 2px rgba(0, 0, 0, 0.3));\n",
              "      fill: #FFFFFF;\n",
              "    }\n",
              "  </style>\n",
              "\n",
              "    <script>\n",
              "      const buttonEl =\n",
              "        document.querySelector('#df-a061ea4b-1b34-4d8c-8c11-a6f8c96ba082 button.colab-df-convert');\n",
              "      buttonEl.style.display =\n",
              "        google.colab.kernel.accessAllowed ? 'block' : 'none';\n",
              "\n",
              "      async function convertToInteractive(key) {\n",
              "        const element = document.querySelector('#df-a061ea4b-1b34-4d8c-8c11-a6f8c96ba082');\n",
              "        const dataTable =\n",
              "          await google.colab.kernel.invokeFunction('convertToInteractive',\n",
              "                                                    [key], {});\n",
              "        if (!dataTable) return;\n",
              "\n",
              "        const docLinkHtml = 'Like what you see? Visit the ' +\n",
              "          '<a target=\"_blank\" href=https://colab.research.google.com/notebooks/data_table.ipynb>data table notebook</a>'\n",
              "          + ' to learn more about interactive tables.';\n",
              "        element.innerHTML = '';\n",
              "        dataTable['output_type'] = 'display_data';\n",
              "        await google.colab.output.renderOutput(dataTable, element);\n",
              "        const docLink = document.createElement('div');\n",
              "        docLink.innerHTML = docLinkHtml;\n",
              "        element.appendChild(docLink);\n",
              "      }\n",
              "    </script>\n",
              "  </div>\n",
              "\n",
              "\n",
              "<div id=\"df-1936bd7d-94ea-43ab-8484-3eb72957d83d\">\n",
              "  <button class=\"colab-df-quickchart\" onclick=\"quickchart('df-1936bd7d-94ea-43ab-8484-3eb72957d83d')\"\n",
              "            title=\"Suggest charts.\"\n",
              "            style=\"display:none;\">\n",
              "\n",
              "<svg xmlns=\"http://www.w3.org/2000/svg\" height=\"24px\"viewBox=\"0 0 24 24\"\n",
              "     width=\"24px\">\n",
              "    <g>\n",
              "        <path d=\"M19 3H5c-1.1 0-2 .9-2 2v14c0 1.1.9 2 2 2h14c1.1 0 2-.9 2-2V5c0-1.1-.9-2-2-2zM9 17H7v-7h2v7zm4 0h-2V7h2v10zm4 0h-2v-4h2v4z\"/>\n",
              "    </g>\n",
              "</svg>\n",
              "  </button>\n",
              "\n",
              "<style>\n",
              "  .colab-df-quickchart {\n",
              "    background-color: #E8F0FE;\n",
              "    border: none;\n",
              "    border-radius: 50%;\n",
              "    cursor: pointer;\n",
              "    display: none;\n",
              "    fill: #1967D2;\n",
              "    height: 32px;\n",
              "    padding: 0 0 0 0;\n",
              "    width: 32px;\n",
              "  }\n",
              "\n",
              "  .colab-df-quickchart:hover {\n",
              "    background-color: #E2EBFA;\n",
              "    box-shadow: 0px 1px 2px rgba(60, 64, 67, 0.3), 0px 1px 3px 1px rgba(60, 64, 67, 0.15);\n",
              "    fill: #174EA6;\n",
              "  }\n",
              "\n",
              "  [theme=dark] .colab-df-quickchart {\n",
              "    background-color: #3B4455;\n",
              "    fill: #D2E3FC;\n",
              "  }\n",
              "\n",
              "  [theme=dark] .colab-df-quickchart:hover {\n",
              "    background-color: #434B5C;\n",
              "    box-shadow: 0px 1px 3px 1px rgba(0, 0, 0, 0.15);\n",
              "    filter: drop-shadow(0px 1px 2px rgba(0, 0, 0, 0.3));\n",
              "    fill: #FFFFFF;\n",
              "  }\n",
              "</style>\n",
              "\n",
              "  <script>\n",
              "    async function quickchart(key) {\n",
              "      const charts = await google.colab.kernel.invokeFunction(\n",
              "          'suggestCharts', [key], {});\n",
              "    }\n",
              "    (() => {\n",
              "      let quickchartButtonEl =\n",
              "        document.querySelector('#df-1936bd7d-94ea-43ab-8484-3eb72957d83d button');\n",
              "      quickchartButtonEl.style.display =\n",
              "        google.colab.kernel.accessAllowed ? 'block' : 'none';\n",
              "    })();\n",
              "  </script>\n",
              "</div>\n",
              "    </div>\n",
              "  </div>\n"
            ]
          },
          "metadata": {},
          "execution_count": 54
        }
      ]
    },
    {
      "cell_type": "code",
      "source": [
        "# reorder the columns\n",
        "cols = ['product_id', 'product_category_name_english', 'product_photos_qty', 'product_weight_g', 'product_length_cm', 'product_height_cm', 'product_width_cm']\n",
        "df67 = df67[cols]\n",
        "df67.sample(5)"
      ],
      "metadata": {
        "colab": {
          "base_uri": "https://localhost:8080/",
          "height": 226
        },
        "id": "pTJVoWQychl3",
        "outputId": "ba5a0e00-c85f-4b19-d45a-bd68a1f5b1ce"
      },
      "execution_count": 55,
      "outputs": [
        {
          "output_type": "execute_result",
          "data": {
            "text/plain": [
              "                             product_id product_category_name_english  \\\n",
              "21660  82254d93b897fde054504b15f8fe923c             home_construction   \n",
              "32218  93b67da06834e15a3594134d43ee4ebe               home_appliances   \n",
              "17583  ba31c397eec007a164fa766c6b90fa97                bed_bath_table   \n",
              "10500  e923da464bbde92908a4d934bca4ab85                  garden_tools   \n",
              "2519   97017430754804328eb9597b7f85da03                     telephony   \n",
              "\n",
              "       product_photos_qty  product_weight_g  product_length_cm  \\\n",
              "21660                 2.0            2550.0               38.0   \n",
              "32218                 1.0            1200.0               28.0   \n",
              "17583                 1.0            2350.0               20.0   \n",
              "10500                 1.0             600.0               17.0   \n",
              "2519                  5.0             300.0               17.0   \n",
              "\n",
              "       product_height_cm  product_width_cm  \n",
              "21660               28.0              28.0  \n",
              "32218                8.0              13.0  \n",
              "17583               30.0              30.0  \n",
              "10500               17.0              12.0  \n",
              "2519                 4.0              12.0  "
            ],
            "text/html": [
              "\n",
              "  <div id=\"df-f5d04c4e-486a-4a29-881a-41e75ee6f8a5\" class=\"colab-df-container\">\n",
              "    <div>\n",
              "<style scoped>\n",
              "    .dataframe tbody tr th:only-of-type {\n",
              "        vertical-align: middle;\n",
              "    }\n",
              "\n",
              "    .dataframe tbody tr th {\n",
              "        vertical-align: top;\n",
              "    }\n",
              "\n",
              "    .dataframe thead th {\n",
              "        text-align: right;\n",
              "    }\n",
              "</style>\n",
              "<table border=\"1\" class=\"dataframe\">\n",
              "  <thead>\n",
              "    <tr style=\"text-align: right;\">\n",
              "      <th></th>\n",
              "      <th>product_id</th>\n",
              "      <th>product_category_name_english</th>\n",
              "      <th>product_photos_qty</th>\n",
              "      <th>product_weight_g</th>\n",
              "      <th>product_length_cm</th>\n",
              "      <th>product_height_cm</th>\n",
              "      <th>product_width_cm</th>\n",
              "    </tr>\n",
              "  </thead>\n",
              "  <tbody>\n",
              "    <tr>\n",
              "      <th>21660</th>\n",
              "      <td>82254d93b897fde054504b15f8fe923c</td>\n",
              "      <td>home_construction</td>\n",
              "      <td>2.0</td>\n",
              "      <td>2550.0</td>\n",
              "      <td>38.0</td>\n",
              "      <td>28.0</td>\n",
              "      <td>28.0</td>\n",
              "    </tr>\n",
              "    <tr>\n",
              "      <th>32218</th>\n",
              "      <td>93b67da06834e15a3594134d43ee4ebe</td>\n",
              "      <td>home_appliances</td>\n",
              "      <td>1.0</td>\n",
              "      <td>1200.0</td>\n",
              "      <td>28.0</td>\n",
              "      <td>8.0</td>\n",
              "      <td>13.0</td>\n",
              "    </tr>\n",
              "    <tr>\n",
              "      <th>17583</th>\n",
              "      <td>ba31c397eec007a164fa766c6b90fa97</td>\n",
              "      <td>bed_bath_table</td>\n",
              "      <td>1.0</td>\n",
              "      <td>2350.0</td>\n",
              "      <td>20.0</td>\n",
              "      <td>30.0</td>\n",
              "      <td>30.0</td>\n",
              "    </tr>\n",
              "    <tr>\n",
              "      <th>10500</th>\n",
              "      <td>e923da464bbde92908a4d934bca4ab85</td>\n",
              "      <td>garden_tools</td>\n",
              "      <td>1.0</td>\n",
              "      <td>600.0</td>\n",
              "      <td>17.0</td>\n",
              "      <td>17.0</td>\n",
              "      <td>12.0</td>\n",
              "    </tr>\n",
              "    <tr>\n",
              "      <th>2519</th>\n",
              "      <td>97017430754804328eb9597b7f85da03</td>\n",
              "      <td>telephony</td>\n",
              "      <td>5.0</td>\n",
              "      <td>300.0</td>\n",
              "      <td>17.0</td>\n",
              "      <td>4.0</td>\n",
              "      <td>12.0</td>\n",
              "    </tr>\n",
              "  </tbody>\n",
              "</table>\n",
              "</div>\n",
              "    <div class=\"colab-df-buttons\">\n",
              "\n",
              "  <div class=\"colab-df-container\">\n",
              "    <button class=\"colab-df-convert\" onclick=\"convertToInteractive('df-f5d04c4e-486a-4a29-881a-41e75ee6f8a5')\"\n",
              "            title=\"Convert this dataframe to an interactive table.\"\n",
              "            style=\"display:none;\">\n",
              "\n",
              "  <svg xmlns=\"http://www.w3.org/2000/svg\" height=\"24px\" viewBox=\"0 -960 960 960\">\n",
              "    <path d=\"M120-120v-720h720v720H120Zm60-500h600v-160H180v160Zm220 220h160v-160H400v160Zm0 220h160v-160H400v160ZM180-400h160v-160H180v160Zm440 0h160v-160H620v160ZM180-180h160v-160H180v160Zm440 0h160v-160H620v160Z\"/>\n",
              "  </svg>\n",
              "    </button>\n",
              "\n",
              "  <style>\n",
              "    .colab-df-container {\n",
              "      display:flex;\n",
              "      gap: 12px;\n",
              "    }\n",
              "\n",
              "    .colab-df-convert {\n",
              "      background-color: #E8F0FE;\n",
              "      border: none;\n",
              "      border-radius: 50%;\n",
              "      cursor: pointer;\n",
              "      display: none;\n",
              "      fill: #1967D2;\n",
              "      height: 32px;\n",
              "      padding: 0 0 0 0;\n",
              "      width: 32px;\n",
              "    }\n",
              "\n",
              "    .colab-df-convert:hover {\n",
              "      background-color: #E2EBFA;\n",
              "      box-shadow: 0px 1px 2px rgba(60, 64, 67, 0.3), 0px 1px 3px 1px rgba(60, 64, 67, 0.15);\n",
              "      fill: #174EA6;\n",
              "    }\n",
              "\n",
              "    .colab-df-buttons div {\n",
              "      margin-bottom: 4px;\n",
              "    }\n",
              "\n",
              "    [theme=dark] .colab-df-convert {\n",
              "      background-color: #3B4455;\n",
              "      fill: #D2E3FC;\n",
              "    }\n",
              "\n",
              "    [theme=dark] .colab-df-convert:hover {\n",
              "      background-color: #434B5C;\n",
              "      box-shadow: 0px 1px 3px 1px rgba(0, 0, 0, 0.15);\n",
              "      filter: drop-shadow(0px 1px 2px rgba(0, 0, 0, 0.3));\n",
              "      fill: #FFFFFF;\n",
              "    }\n",
              "  </style>\n",
              "\n",
              "    <script>\n",
              "      const buttonEl =\n",
              "        document.querySelector('#df-f5d04c4e-486a-4a29-881a-41e75ee6f8a5 button.colab-df-convert');\n",
              "      buttonEl.style.display =\n",
              "        google.colab.kernel.accessAllowed ? 'block' : 'none';\n",
              "\n",
              "      async function convertToInteractive(key) {\n",
              "        const element = document.querySelector('#df-f5d04c4e-486a-4a29-881a-41e75ee6f8a5');\n",
              "        const dataTable =\n",
              "          await google.colab.kernel.invokeFunction('convertToInteractive',\n",
              "                                                    [key], {});\n",
              "        if (!dataTable) return;\n",
              "\n",
              "        const docLinkHtml = 'Like what you see? Visit the ' +\n",
              "          '<a target=\"_blank\" href=https://colab.research.google.com/notebooks/data_table.ipynb>data table notebook</a>'\n",
              "          + ' to learn more about interactive tables.';\n",
              "        element.innerHTML = '';\n",
              "        dataTable['output_type'] = 'display_data';\n",
              "        await google.colab.output.renderOutput(dataTable, element);\n",
              "        const docLink = document.createElement('div');\n",
              "        docLink.innerHTML = docLinkHtml;\n",
              "        element.appendChild(docLink);\n",
              "      }\n",
              "    </script>\n",
              "  </div>\n",
              "\n",
              "\n",
              "<div id=\"df-6c126efc-dd63-49b8-965c-258da872883d\">\n",
              "  <button class=\"colab-df-quickchart\" onclick=\"quickchart('df-6c126efc-dd63-49b8-965c-258da872883d')\"\n",
              "            title=\"Suggest charts.\"\n",
              "            style=\"display:none;\">\n",
              "\n",
              "<svg xmlns=\"http://www.w3.org/2000/svg\" height=\"24px\"viewBox=\"0 0 24 24\"\n",
              "     width=\"24px\">\n",
              "    <g>\n",
              "        <path d=\"M19 3H5c-1.1 0-2 .9-2 2v14c0 1.1.9 2 2 2h14c1.1 0 2-.9 2-2V5c0-1.1-.9-2-2-2zM9 17H7v-7h2v7zm4 0h-2V7h2v10zm4 0h-2v-4h2v4z\"/>\n",
              "    </g>\n",
              "</svg>\n",
              "  </button>\n",
              "\n",
              "<style>\n",
              "  .colab-df-quickchart {\n",
              "    background-color: #E8F0FE;\n",
              "    border: none;\n",
              "    border-radius: 50%;\n",
              "    cursor: pointer;\n",
              "    display: none;\n",
              "    fill: #1967D2;\n",
              "    height: 32px;\n",
              "    padding: 0 0 0 0;\n",
              "    width: 32px;\n",
              "  }\n",
              "\n",
              "  .colab-df-quickchart:hover {\n",
              "    background-color: #E2EBFA;\n",
              "    box-shadow: 0px 1px 2px rgba(60, 64, 67, 0.3), 0px 1px 3px 1px rgba(60, 64, 67, 0.15);\n",
              "    fill: #174EA6;\n",
              "  }\n",
              "\n",
              "  [theme=dark] .colab-df-quickchart {\n",
              "    background-color: #3B4455;\n",
              "    fill: #D2E3FC;\n",
              "  }\n",
              "\n",
              "  [theme=dark] .colab-df-quickchart:hover {\n",
              "    background-color: #434B5C;\n",
              "    box-shadow: 0px 1px 3px 1px rgba(0, 0, 0, 0.15);\n",
              "    filter: drop-shadow(0px 1px 2px rgba(0, 0, 0, 0.3));\n",
              "    fill: #FFFFFF;\n",
              "  }\n",
              "</style>\n",
              "\n",
              "  <script>\n",
              "    async function quickchart(key) {\n",
              "      const charts = await google.colab.kernel.invokeFunction(\n",
              "          'suggestCharts', [key], {});\n",
              "    }\n",
              "    (() => {\n",
              "      let quickchartButtonEl =\n",
              "        document.querySelector('#df-6c126efc-dd63-49b8-965c-258da872883d button');\n",
              "      quickchartButtonEl.style.display =\n",
              "        google.colab.kernel.accessAllowed ? 'block' : 'none';\n",
              "    })();\n",
              "  </script>\n",
              "</div>\n",
              "    </div>\n",
              "  </div>\n"
            ]
          },
          "metadata": {},
          "execution_count": 55
        }
      ]
    },
    {
      "cell_type": "code",
      "source": [
        "# export the final file\n",
        "df67.to_csv('olist_products_en.csv', index=False)"
      ],
      "metadata": {
        "id": "WRQev4tffgmb"
      },
      "execution_count": 56,
      "outputs": []
    }
  ],
  "metadata": {
    "colab": {
      "provenance": []
    },
    "kernelspec": {
      "display_name": "Python 3",
      "name": "python3"
    },
    "language_info": {
      "name": "python"
    }
  },
  "nbformat": 4,
  "nbformat_minor": 0
}